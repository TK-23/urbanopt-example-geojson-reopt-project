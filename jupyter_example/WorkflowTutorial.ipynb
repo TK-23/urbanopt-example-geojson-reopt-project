{
 "cells": [
  {
   "cell_type": "markdown",
   "metadata": {},
   "source": [
    "# Example - URBANopt Project with REopt Gem "
   ]
  },
  {
   "cell_type": "raw",
   "metadata": {},
   "source": [
    "This example project will walk you through the basics of integrating the REopt Gem within an URBANopt project.\n",
    "\n",
    "Before running this, be sure to have run from the main directory:\n",
    "    $ bundle install\n",
    "    $ bundle update\n",
    "\n",
    "First we will import some required packages and variable"
   ]
  },
  {
   "cell_type": "code",
   "execution_count": 1,
   "metadata": {},
   "outputs": [
    {
     "data": {
      "application/javascript": [
       "if(window['d3'] === undefined ||\n",
       "   window['Nyaplot'] === undefined){\n",
       "    var path = {\"d3\":\"https://cdnjs.cloudflare.com/ajax/libs/d3/3.5.5/d3.min\",\"downloadable\":\"http://cdn.rawgit.com/domitry/d3-downloadable/master/d3-downloadable\"};\n",
       "\n",
       "\n",
       "\n",
       "    var shim = {\"d3\":{\"exports\":\"d3\"},\"downloadable\":{\"exports\":\"downloadable\"}};\n",
       "\n",
       "    require.config({paths: path, shim:shim});\n",
       "\n",
       "\n",
       "require(['d3'], function(d3){window['d3']=d3;console.log('finished loading d3');require(['downloadable'], function(downloadable){window['downloadable']=downloadable;console.log('finished loading downloadable');\n",
       "\n",
       "\tvar script = d3.select(\"head\")\n",
       "\t    .append(\"script\")\n",
       "\t    .attr(\"src\", \"http://cdn.rawgit.com/domitry/Nyaplotjs/master/release/nyaplot.js\")\n",
       "\t    .attr(\"async\", true);\n",
       "\n",
       "\tscript[0][0].onload = script[0][0].onreadystatechange = function(){\n",
       "\n",
       "\n",
       "\t    var event = document.createEvent(\"HTMLEvents\");\n",
       "\t    event.initEvent(\"load_nyaplot\",false,false);\n",
       "\t    window.dispatchEvent(event);\n",
       "\t    console.log('Finished loading Nyaplotjs');\n",
       "\n",
       "\t};\n",
       "\n",
       "\n",
       "});});\n",
       "}\n"
      ],
      "text/plain": [
       "\"if(window['d3'] === undefined ||\\n   window['Nyaplot'] === undefined){\\n    var path = {\\\"d3\\\":\\\"https://cdnjs.cloudflare.com/ajax/libs/d3/3.5.5/d3.min\\\",\\\"downloadable\\\":\\\"http://cdn.rawgit.com/domitry/d3-downloadable/master/d3-downloadable\\\"};\\n\\n\\n\\n    var shim = {\\\"d3\\\":{\\\"exports\\\":\\\"d3\\\"},\\\"downloadable\\\":{\\\"exports\\\":\\\"downloadable\\\"}};\\n\\n    require.config({paths: path, shim:shim});\\n\\n\\nrequire(['d3'], function(d3){window['d3']=d3;console.log('finished loading d3');require(['downloadable'], function(downloadable){window['downloadable']=downloadable;console.log('finished loading downloadable');\\n\\n\\tvar script = d3.select(\\\"head\\\")\\n\\t    .append(\\\"script\\\")\\n\\t    .attr(\\\"src\\\", \\\"http://cdn.rawgit.com/domitry/Nyaplotjs/master/release/nyaplot.js\\\")\\n\\t    .attr(\\\"async\\\", true);\\n\\n\\tscript[0][0].onload = script[0][0].onreadystatechange = function(){\\n\\n\\n\\t    var event = document.createEvent(\\\"HTMLEvents\\\");\\n\\t    event.initEvent(\\\"load_nyaplot\\\",false,false);\\n\\t    window.dispatchEvent(event);\\n\\t    console.log('Finished loading Nyaplotjs');\\n\\n\\t};\\n\\n\\n});});\\n}\\n\""
      ]
     },
     "metadata": {},
     "output_type": "display_data"
    },
    {
     "data": {
      "text/plain": [
       "true"
      ]
     },
     "execution_count": 1,
     "metadata": {},
     "output_type": "execute_result"
    }
   ],
   "source": [
    "require 'openstudio/extension'\n",
    "require 'openstudio/extension/rake_task'\n",
    "require 'urbanopt/scenario'\n",
    "require 'urbanopt/geojson'\n",
    "require 'urbanopt/reopt_scenario'\n",
    "require 'urbanopt/reopt'\n",
    "require 'daru'"
   ]
  },
  {
   "cell_type": "code",
   "execution_count": 2,
   "metadata": {
    "scrolled": false
   },
   "outputs": [
    {
     "name": "stderr",
     "output_type": "stream",
     "text": [
      "<main>: warning: already initialized constant DEVELOPER_NREL_KEY\n",
      "/Users/tkwasnik/.rbenv/versions/2.2.4/lib/ruby/gems/2.2.0/bundler/gems/urbanopt-reopt-gem-9d3a2c58ed2e/developer_nrel_key.rb:1: warning: previous definition of DEVELOPER_NREL_KEY was here\n"
     ]
    },
    {
     "data": {
      "text/plain": [
       "\"2we3uMoY5IDi8HUMIUYuinl734RNmC5xF7iOXqbg\""
      ]
     },
     "execution_count": 2,
     "metadata": {},
     "output_type": "execute_result"
    }
   ],
   "source": [
    "DEVELOPER_NREL_KEY = 'your key here https://developer.nrel.gov/signup/'"
   ]
  },
  {
   "cell_type": "markdown",
   "metadata": {},
   "source": [
    "## Setup"
   ]
  },
  {
   "cell_type": "raw",
   "metadata": {},
   "source": [
    "Next we will set up a scenario, using the baseline case as an example. Here we see in addition to the regular scenario set up we also have new variables, being the \"reopt_files_dir\" and the \"scenario_reopt_assumptions_file_name\". These variables are useful in adjusting REopt Lite assumptions (i.e. utility rate setting, capital costs, financial lifetime of project).\n",
    "\n",
    "\"reopt_files_dir\" - This folder path is needed if we want to use non-default assumptions when calling REopt Lite. For example, in most cases we will want to change the utility rate, and this can only be done by updating the default assumptions. This folder must contain a .json file for all the assumptions we want to use, formatted according to the guidelines in https://developer.nrel.gov/docs/energy-optimization/reopt-v1/\n",
    "\n",
    "\"scenario_reopt_assumptions_file_name\" - This is the name of the file in \"reopt_files_dir\" which will be used for analysis at the scenario level (i.e. all feature load profiles are aggregated into one communal load and optimized once by REopt Lite).\n",
    "\n",
    "Note, assumptions are mapped to features in the csv file as shown below.\n"
   ]
  },
  {
   "cell_type": "code",
   "execution_count": 7,
   "metadata": {},
   "outputs": [
    {
     "data": {
      "text/plain": [
       ":baseline_scenario"
      ]
     },
     "execution_count": 7,
     "metadata": {},
     "output_type": "execute_result"
    }
   ],
   "source": [
    "def baseline_scenario\n",
    "  root_dir = File.absolute_path(File.dirname(__FILE__))\n",
    "  name = 'Baseline Scenario'\n",
    "  run_dir = File.join(File.dirname(__FILE__), 'run/baseline_scenario/')\n",
    "  feature_file_path = File.join(File.dirname(__FILE__), 'example_project.json')\n",
    "  csv_file = File.join(File.dirname(__FILE__), 'baseline_scenario.csv')\n",
    "  mapper_files_dir = File.join(File.dirname(__FILE__), '../mappers/')\n",
    "  reopt_files_dir = File.join(File.dirname(__FILE__), '../reopt/')\n",
    "  scenario_reopt_assumptions_file_name = 'base_assumptions.json'\n",
    "  num_header_rows = 1\n",
    "\n",
    "  feature_file = URBANopt::GeoJSON::GeoFile.from_file(feature_file_path)\n",
    "  scenario = URBANopt::Scenario::REoptScenarioCSV.new(name, root_dir, run_dir, feature_file, mapper_files_dir, csv_file, num_header_rows, reopt_files_dir, scenario_reopt_assumptions_file_name)\n",
    "  return scenario\n",
    "end\n"
   ]
  },
  {
   "cell_type": "raw",
   "metadata": {},
   "source": [
    "Before we go further, let's take a look at the input csv to see how assumption files are mapped to features:"
   ]
  },
  {
   "cell_type": "code",
   "execution_count": 8,
   "metadata": {},
   "outputs": [
    {
     "data": {
      "text/html": [
       "<b> Daru::DataFrame(13x4) </b>\n",
       "<table border=\"1\" class=\"dataframe\">\n",
       "  <thead>\n",
       "  \n",
       "    <tr>\n",
       "      <th></th>\n",
       "      \n",
       "        <th>Feature Id</th>\n",
       "      \n",
       "        <th>Feature Name</th>\n",
       "      \n",
       "        <th>Mapper Class</th>\n",
       "      \n",
       "        <th>REopt Assumptions</th>\n",
       "      \n",
       "    </tr>\n",
       "  \n",
       "</thead>\n",
       "  <tbody>\n",
       "  \n",
       "    <tr>\n",
       "      <td>0</td>\n",
       "      \n",
       "        <td>1</td>\n",
       "      \n",
       "        <td>Mixed_use 1</td>\n",
       "      \n",
       "        <td>URBANopt::Scenario::BaselineMapper</td>\n",
       "      \n",
       "        <td>base_assumptions.json</td>\n",
       "      \n",
       "    </tr>\n",
       "  \n",
       "    <tr>\n",
       "      <td>1</td>\n",
       "      \n",
       "        <td>2</td>\n",
       "      \n",
       "        <td>Restaurant 1</td>\n",
       "      \n",
       "        <td>URBANopt::Scenario::BaselineMapper</td>\n",
       "      \n",
       "        <td>base_assumptions.json</td>\n",
       "      \n",
       "    </tr>\n",
       "  \n",
       "    <tr>\n",
       "      <td>2</td>\n",
       "      \n",
       "        <td>3</td>\n",
       "      \n",
       "        <td>Residential 1</td>\n",
       "      \n",
       "        <td>URBANopt::Scenario::BaselineMapper</td>\n",
       "      \n",
       "        <td>base_assumptions.json</td>\n",
       "      \n",
       "    </tr>\n",
       "  \n",
       "    <tr>\n",
       "      <td>3</td>\n",
       "      \n",
       "        <td>4</td>\n",
       "      \n",
       "        <td>Residential 2</td>\n",
       "      \n",
       "        <td>URBANopt::Scenario::BaselineMapper</td>\n",
       "      \n",
       "        <td>base_assumptions.json</td>\n",
       "      \n",
       "    </tr>\n",
       "  \n",
       "    <tr>\n",
       "      <td>4</td>\n",
       "      \n",
       "        <td>5</td>\n",
       "      \n",
       "        <td>Residential 4 </td>\n",
       "      \n",
       "        <td>URBANopt::Scenario::BaselineMapper</td>\n",
       "      \n",
       "        <td>base_assumptions.json</td>\n",
       "      \n",
       "    </tr>\n",
       "  \n",
       "    <tr>\n",
       "      <td>5</td>\n",
       "      \n",
       "        <td>6</td>\n",
       "      \n",
       "        <td>Residential 5</td>\n",
       "      \n",
       "        <td>URBANopt::Scenario::BaselineMapper</td>\n",
       "      \n",
       "        <td>base_assumptions.json</td>\n",
       "      \n",
       "    </tr>\n",
       "  \n",
       "    <tr>\n",
       "      <td>6</td>\n",
       "      \n",
       "        <td>7</td>\n",
       "      \n",
       "        <td>Office 1</td>\n",
       "      \n",
       "        <td>URBANopt::Scenario::BaselineMapper</td>\n",
       "      \n",
       "        <td>base_assumptions.json</td>\n",
       "      \n",
       "    </tr>\n",
       "  \n",
       "    <tr>\n",
       "      <td>7</td>\n",
       "      \n",
       "        <td>8</td>\n",
       "      \n",
       "        <td>Hospital 1</td>\n",
       "      \n",
       "        <td>URBANopt::Scenario::BaselineMapper</td>\n",
       "      \n",
       "        <td>base_assumptions.json</td>\n",
       "      \n",
       "    </tr>\n",
       "  \n",
       "    <tr>\n",
       "      <td>8</td>\n",
       "      \n",
       "        <td>9</td>\n",
       "      \n",
       "        <td>Hospital 2</td>\n",
       "      \n",
       "        <td>URBANopt::Scenario::BaselineMapper</td>\n",
       "      \n",
       "        <td>base_assumptions.json</td>\n",
       "      \n",
       "    </tr>\n",
       "  \n",
       "    <tr>\n",
       "      <td>9</td>\n",
       "      \n",
       "        <td>10</td>\n",
       "      \n",
       "        <td>Mixed use 2</td>\n",
       "      \n",
       "        <td>URBANopt::Scenario::BaselineMapper</td>\n",
       "      \n",
       "        <td>base_assumptions.json</td>\n",
       "      \n",
       "    </tr>\n",
       "  \n",
       "    <tr>\n",
       "      <td>10</td>\n",
       "      \n",
       "        <td>11</td>\n",
       "      \n",
       "        <td>Residential 3</td>\n",
       "      \n",
       "        <td>URBANopt::Scenario::BaselineMapper</td>\n",
       "      \n",
       "        <td>base_assumptions.json</td>\n",
       "      \n",
       "    </tr>\n",
       "  \n",
       "    <tr>\n",
       "      <td>11</td>\n",
       "      \n",
       "        <td>12</td>\n",
       "      \n",
       "        <td>Mall 1</td>\n",
       "      \n",
       "        <td>URBANopt::Scenario::BaselineMapper</td>\n",
       "      \n",
       "        <td>base_assumptions.json</td>\n",
       "      \n",
       "    </tr>\n",
       "  \n",
       "    <tr>\n",
       "      <td>12</td>\n",
       "      \n",
       "        <td>13</td>\n",
       "      \n",
       "        <td>Hotel 1</td>\n",
       "      \n",
       "        <td>URBANopt::Scenario::BaselineMapper</td>\n",
       "      \n",
       "        <td>base_assumptions.json</td>\n",
       "      \n",
       "    </tr>\n",
       "  \n",
       "\n",
       "  \n",
       "</tbody>\n",
       "</table>"
      ],
      "text/plain": [
       "#<Daru::DataFrame(13x4)>\n",
       "            Feature Id Feature Na Mapper Cla REopt Assu\n",
       "          0          1 Mixed_use  URBANopt:: base_assum\n",
       "          1          2 Restaurant URBANopt:: base_assum\n",
       "          2          3 Residentia URBANopt:: base_assum\n",
       "          3          4 Residentia URBANopt:: base_assum\n",
       "          4          5 Residentia URBANopt:: base_assum\n",
       "          5          6 Residentia URBANopt:: base_assum\n",
       "          6          7   Office 1 URBANopt:: base_assum\n",
       "          7          8 Hospital 1 URBANopt:: base_assum\n",
       "          8          9 Hospital 2 URBANopt:: base_assum\n",
       "          9         10 Mixed use  URBANopt:: base_assum\n",
       "         10         11 Residentia URBANopt:: base_assum\n",
       "         11         12     Mall 1 URBANopt:: base_assum\n",
       "         12         13    Hotel 1 URBANopt:: base_assum"
      ]
     },
     "execution_count": 8,
     "metadata": {},
     "output_type": "execute_result"
    }
   ],
   "source": [
    "csv_file = File.join(File.dirname(__FILE__), 'baseline_scenario.csv')\n",
    "Daru::DataFrame.from_csv csv_file"
   ]
  },
  {
   "cell_type": "raw",
   "metadata": {},
   "source": [
    "As you can see, the CSV has a fourth column \"REopt Assumptions\", which shows the name of the file in the \"reopt_files_dir\" to use in calling REopt Lite for that feature."
   ]
  },
  {
   "cell_type": "raw",
   "metadata": {},
   "source": [
    "Before we go further, let's also take a look at what some of the key REopt Assumptions look like:"
   ]
  },
  {
   "cell_type": "code",
   "execution_count": 9,
   "metadata": {},
   "outputs": [
    {
     "name": "stdout",
     "output_type": "stream",
     "text": [
      "\"PV\"\n",
      "{\"pbi_years\"=>1.0, \"macrs_bonus_pct\"=>0.0, \"max_kw\"=>1000000000.0, \"pbi_max_us_dollars\"=>1000000000.0, \"radius\"=>0.0, \"state_ibi_pct\"=>0.0, \"utility_rebate_max_us_dollars\"=>10000000000.0, \"installed_cost_us_dollars_per_kw\"=>2000.0, \"utility_ibi_max_us_dollars\"=>10000000000.0, \"tilt\"=>10.0, \"federal_rebate_us_dollars_per_kw\"=>0.0, \"gcr\"=>0.4, \"pbi_system_max_kw\"=>1000000000.0, \"utility_ibi_pct\"=>0.0, \"state_ibi_max_us_dollars\"=>10000000000.0, \"state_rebate_us_dollars_per_kw\"=>0.0, \"macrs_option_years\"=>5, \"state_rebate_max_us_dollars\"=>10000000000.0, \"dc_ac_ratio\"=>1.1, \"federal_itc_pct\"=>0.3, \"pbi_us_dollars_per_kwh\"=>0.0, \"module_type\"=>0, \"array_type\"=>1, \"existing_kw\"=>0.0, \"om_cost_us_dollars_per_kw\"=>16.0, \"utility_rebate_us_dollars_per_kw\"=>0.0, \"min_kw\"=>0.0, \"losses\"=>0.14, \"macrs_itc_reduction\"=>0.5, \"degradation_pct\"=>0.005, \"inv_eff\"=>0.96, \"azimuth\"=>180.0}\n",
      "\"Storage\"\n",
      "{\"max_kwh\"=>0.0, \"rectifier_efficiency_pct\"=>0.96, \"total_itc_pct\"=>0.0, \"min_kw\"=>0.0, \"max_kw\"=>0.0, \"replace_cost_us_dollars_per_kw\"=>460.0, \"replace_cost_us_dollars_per_kwh\"=>230.0, \"min_kwh\"=>0.0, \"installed_cost_us_dollars_per_kw\"=>1000.0, \"total_rebate_us_dollars_per_kw\"=>0, \"installed_cost_us_dollars_per_kwh\"=>500.0, \"inverter_efficiency_pct\"=>0.96, \"macrs_itc_reduction\"=>0.5, \"canGridCharge\"=>true, \"macrs_bonus_pct\"=>0.0, \"battery_replacement_year\"=>10, \"macrs_option_years\"=>7, \"internal_efficiency_pct\"=>0.975, \"soc_min_pct\"=>0.2, \"soc_init_pct\"=>0.5, \"inverter_replacement_year\"=>10}\n",
      "\"ElectricTariff\"\n",
      "{\"add_blended_rates_to_urdb_rate\"=>false, \"wholesale_rate_us_dollars_per_kwh\"=>0.0, \"net_metering_limit_kw\"=>0.0, \"interconnection_limit_kw\"=>100000000.0, \"blended_monthly_demand_charges_us_dollars_per_kw\"=>[], \"wholesale_rate_above_site_load_us_dollars_per_kwh\"=>0.0, \"urdb_label\"=>\"539fb919ec4f024bc1dc1e5f\"}\n",
      "\"Financial\"\n",
      "{\"escalation_pct\"=>0.026, \"offtaker_discount_pct\"=>0.081, \"value_of_lost_load_us_dollars_per_kwh\"=>100.0, \"analysis_years\"=>20, \"microgrid_upgrade_cost_pct\"=>0.3, \"offtaker_tax_pct\"=>0.26, \"om_cost_escalation_pct\"=>0.025}\n"
     ]
    },
    {
     "data": {
      "text/plain": [
       "[\"Financial\", {\"escalation_pct\"=>0.026, \"offtaker_discount_pct\"=>0.081, \"value_of_lost_load_us_dollars_per_kwh\"=>100.0, \"analysis_years\"=>20, \"microgrid_upgrade_cost_pct\"=>0.3, \"offtaker_tax_pct\"=>0.26, \"om_cost_escalation_pct\"=>0.025}]"
      ]
     },
     "execution_count": 9,
     "metadata": {},
     "output_type": "execute_result"
    }
   ],
   "source": [
    "feature_reports_hash = nil\n",
    "File.open('../reopt/base_assumptions.json', 'r') do |file|\n",
    "  feature_reports_hash = JSON.parse(file.read)\n",
    "end\n",
    "\n",
    "p \"PV\", feature_reports_hash[\"Scenario\"]['Site']['PV']\n",
    "p \"Storage\", feature_reports_hash[\"Scenario\"]['Site']['Storage']\n",
    "p \"ElectricTariff\", feature_reports_hash[\"Scenario\"]['Site']['ElectricTariff']\n",
    "p \"Financial\", feature_reports_hash[\"Scenario\"]['Site']['Financial']\n"
   ]
  },
  {
   "cell_type": "markdown",
   "metadata": {},
   "source": [
    "## Post Processing"
   ]
  },
  {
   "cell_type": "raw",
   "metadata": {},
   "source": [
    "Next, well walk through the post-processing of a scenario where the actual calls to REopt Lite  take place. Fist we run the scenario, and extract the \"scenario_report\" hash and \"scenario_base\" (which contains some of our setup settings)."
   ]
  },
  {
   "cell_type": "code",
   "execution_count": 31,
   "metadata": {},
   "outputs": [
    {
     "data": {
      "text/plain": [
       "true"
      ]
     },
     "execution_count": 31,
     "metadata": {},
     "output_type": "execute_result"
    }
   ],
   "source": [
    "default_post_processor = URBANopt::Scenario::ScenarioDefaultPostProcessor.new(baseline_scenario)\n",
    "scenario_report = default_post_processor.run\n",
    "scenario_base = default_post_processor.scenario_base\n",
    "true"
   ]
  },
  {
   "cell_type": "raw",
   "metadata": {},
   "source": [
    "We're now ready to set up the REopt post processor. Instantiation of this helper, requires at least an API for developer.nrel.gov. \n",
    "\n",
    "For convenience, we can also instantiate it with a scenario report and the location of the scenario and feature level assumption files. \n",
    "\n",
    "By passing a scenario report to it, we get default locations to later save REopt responses and updated timeseries CSV files. We'll look more at these paths in future steps.\n",
    "\n",
    "By passing the location of the scenario and feature level assumption files to the REopt post processor, we get these .json files converted to hashes for us."
   ]
  },
  {
   "cell_type": "code",
   "execution_count": 27,
   "metadata": {},
   "outputs": [
    {
     "data": {
      "text/plain": [
       "true"
      ]
     },
     "execution_count": 27,
     "metadata": {},
     "output_type": "execute_result"
    }
   ],
   "source": [
    "reopt_post_processor = URBANopt::REopt::REoptPostProcessor.new(scenario_report,scenario_base.scenario_reopt_assumptions_file, scenario_base.reopt_feature_assumptions, DEVELOPER_NREL_KEY) \n",
    "true"
   ]
  },
  {
   "cell_type": "raw",
   "metadata": {},
   "source": [
    "Let's take a look at the converted REopt assumption hashes we get because we provided both scenario_base.scenario_reopt_assumptions_file and scenario_base.reopt_feature_assumptions to the REopt post processor. \n",
    "\n",
    "Note that feauture level assumptions is a list in the same order of the features as saved in the scenario report."
   ]
  },
  {
   "cell_type": "code",
   "execution_count": 28,
   "metadata": {},
   "outputs": [
    {
     "name": "stdout",
     "output_type": "stream",
     "text": [
      "\"Scenario Level Assumptions\"\n",
      "{:Scenario=>{:timeout_seconds=>295, :time_steps_per_hour=>1, :Site=>{:Wind=>{:max_kw=>0}, :PV=>{:pbi_years=>1.0, :macrs_bonus_pct=>0.0, :max_kw=>1000000000.0, :pbi_max_us_dollars=>1000000000.0, :radius=>0.0, :state_ibi_pct=>0.0, :utility_rebate_max_us_dollars=>10000000000.0, :installed_cost_us_dollars_per_kw=>2000.0, :utility_ibi_max_us_dollars=>10000000000.0, :tilt=>10.0, :federal_rebate_us_dollars_per_kw=>0.0, :gcr=>0.4, :pbi_system_max_kw=>1000000000.0, :utility_ibi_pct=>0.0, :state_ibi_max_us_dollars=>10000000000.0, :state_rebate_us_dollars_per_kw=>0.0, :macrs_option_years=>5, :state_rebate_max_us_dollars=>10000000000.0, :dc_ac_ratio=>1.1, :federal_itc_pct=>0.3, :pbi_us_dollars_per_kwh=>0.0, :module_type=>0, :array_type=>1, :existing_kw=>0.0, :om_cost_us_dollars_per_kw=>16.0, :utility_rebate_us_dollars_per_kw=>0.0, :min_kw=>0.0, :losses=>0.14, :macrs_itc_reduction=>0.5, :degradation_pct=>0.005, :inv_eff=>0.96, :azimuth=>180.0}, :Generator=>{:pbi_years=>0.0, :macrs_bonus_pct=>0.0, :om_cost_us_dollars_per_kwh=>20.0, :max_kw=>1000000000.0, :pbi_max_us_dollars=>0.0, :state_ibi_pct=>0.0, :fuel_intercept_gal_per_hr=>0.0125, :generator_only_runs_during_grid_outage=>true, :state_rebate_us_dollars_per_kw=>0.0, :installed_cost_us_dollars_per_kw=>2500.0, :utility_ibi_max_us_dollars=>0.0, :fuel_avail_gal=>0.0, :min_turn_down_pct=>0.3, :pbi_system_max_kw=>0.0, :utility_ibi_pct=>0.0, :state_ibi_max_us_dollars=>0.0, :diesel_fuel_cost_us_dollars_per_gallon=>20.0, :fuel_slope_gal_per_kwh=>0.068, :utility_rebate_max_us_dollars=>0.0, :macrs_option_years=>0, :state_rebate_max_us_dollars=>0.0, :federal_itc_pct=>0.0, :existing_kw=>0.0, :pbi_us_dollars_per_kwh=>0.0, :om_cost_us_dollars_per_kw=>50.0, :utility_rebate_us_dollars_per_kw=>0.0, :min_kw=>0.0, :macrs_itc_reduction=>0.0, :federal_rebate_us_dollars_per_kw=>0.0, :generator_sells_energy_back_to_grid=>false}, :LoadProfile=>{:critical_loads_kw_is_net=>false, :critical_load_pct=>0, :loads_kw_is_net=>true}, :roof_squarefeet=>nil, :Storage=>{:max_kwh=>0.0, :rectifier_efficiency_pct=>0.96, :total_itc_pct=>0.0, :min_kw=>0.0, :max_kw=>0.0, :replace_cost_us_dollars_per_kw=>460.0, :replace_cost_us_dollars_per_kwh=>230.0, :min_kwh=>0.0, :installed_cost_us_dollars_per_kw=>1000.0, :total_rebate_us_dollars_per_kw=>0, :installed_cost_us_dollars_per_kwh=>500.0, :inverter_efficiency_pct=>0.96, :macrs_itc_reduction=>0.5, :canGridCharge=>true, :macrs_bonus_pct=>0.0, :battery_replacement_year=>10, :macrs_option_years=>7, :internal_efficiency_pct=>0.975, :soc_min_pct=>0.2, :soc_init_pct=>0.5, :inverter_replacement_year=>10}, :ElectricTariff=>{:add_blended_rates_to_urdb_rate=>false, :wholesale_rate_us_dollars_per_kwh=>0.0, :net_metering_limit_kw=>0.0, :interconnection_limit_kw=>100000000.0, :blended_monthly_demand_charges_us_dollars_per_kw=>[], :wholesale_rate_above_site_load_us_dollars_per_kwh=>0.0, :urdb_label=>\"539fb919ec4f024bc1dc1e5f\"}, :Financial=>{:escalation_pct=>0.026, :offtaker_discount_pct=>0.081, :value_of_lost_load_us_dollars_per_kwh=>100.0, :analysis_years=>20, :microgrid_upgrade_cost_pct=>0.3, :offtaker_tax_pct=>0.26, :om_cost_escalation_pct=>0.025}}}}\n",
      "\"Feature Level Assumptions\"\n"
     ]
    },
    {
     "name": "stdout",
     "output_type": "stream",
     "text": [
      "[{:Scenario=>{:timeout_seconds=>295, :time_steps_per_hour=>1, :Site=>{:Wind=>{:max_kw=>0}, :PV=>{:pbi_years=>1.0, :macrs_bonus_pct=>0.0, :max_kw=>1000000000.0, :pbi_max_us_dollars=>1000000000.0, :radius=>0.0, :state_ibi_pct=>0.0, :utility_rebate_max_us_dollars=>10000000000.0, :installed_cost_us_dollars_per_kw=>2000.0, :utility_ibi_max_us_dollars=>10000000000.0, :tilt=>10.0, :federal_rebate_us_dollars_per_kw=>0.0, :gcr=>0.4, :pbi_system_max_kw=>1000000000.0, :utility_ibi_pct=>0.0, :state_ibi_max_us_dollars=>10000000000.0, :state_rebate_us_dollars_per_kw=>0.0, :macrs_option_years=>5, :state_rebate_max_us_dollars=>10000000000.0, :dc_ac_ratio=>1.1, :federal_itc_pct=>0.3, :pbi_us_dollars_per_kwh=>0.0, :module_type=>0, :array_type=>1, :existing_kw=>0.0, :om_cost_us_dollars_per_kw=>16.0, :utility_rebate_us_dollars_per_kw=>0.0, :min_kw=>0.0, :losses=>0.14, :macrs_itc_reduction=>0.5, :degradation_pct=>0.005, :inv_eff=>0.96, :azimuth=>180.0}, :Generator=>{:pbi_years=>0.0, :macrs_bonus_pct=>0.0, :om_cost_us_dollars_per_kwh=>20.0, :max_kw=>1000000000.0, :pbi_max_us_dollars=>0.0, :state_ibi_pct=>0.0, :fuel_intercept_gal_per_hr=>0.0125, :generator_only_runs_during_grid_outage=>true, :state_rebate_us_dollars_per_kw=>0.0, :installed_cost_us_dollars_per_kw=>2500.0, :utility_ibi_max_us_dollars=>0.0, :fuel_avail_gal=>0.0, :min_turn_down_pct=>0.3, :pbi_system_max_kw=>0.0, :utility_ibi_pct=>0.0, :state_ibi_max_us_dollars=>0.0, :diesel_fuel_cost_us_dollars_per_gallon=>20.0, :fuel_slope_gal_per_kwh=>0.068, :utility_rebate_max_us_dollars=>0.0, :macrs_option_years=>0, :state_rebate_max_us_dollars=>0.0, :federal_itc_pct=>0.0, :existing_kw=>0.0, :pbi_us_dollars_per_kwh=>0.0, :om_cost_us_dollars_per_kw=>50.0, :utility_rebate_us_dollars_per_kw=>0.0, :min_kw=>0.0, :macrs_itc_reduction=>0.0, :federal_rebate_us_dollars_per_kw=>0.0, :generator_sells_energy_back_to_grid=>false}, :LoadProfile=>{:critical_loads_kw_is_net=>false, :critical_load_pct=>0, :loads_kw_is_net=>true}, :roof_squarefeet=>nil, :Storage=>{:max_kwh=>0.0, :rectifier_efficiency_pct=>0.96, :total_itc_pct=>0.0, :min_kw=>0.0, :max_kw=>0.0, :replace_cost_us_dollars_per_kw=>460.0, :replace_cost_us_dollars_per_kwh=>230.0, :min_kwh=>0.0, :installed_cost_us_dollars_per_kw=>1000.0, :total_rebate_us_dollars_per_kw=>0, :installed_cost_us_dollars_per_kwh=>500.0, :inverter_efficiency_pct=>0.96, :macrs_itc_reduction=>0.5, :canGridCharge=>true, :macrs_bonus_pct=>0.0, :battery_replacement_year=>10, :macrs_option_years=>7, :internal_efficiency_pct=>0.975, :soc_min_pct=>0.2, :soc_init_pct=>0.5, :inverter_replacement_year=>10}, :ElectricTariff=>{:add_blended_rates_to_urdb_rate=>false, :wholesale_rate_us_dollars_per_kwh=>0.0, :net_metering_limit_kw=>0.0, :interconnection_limit_kw=>100000000.0, :blended_monthly_demand_charges_us_dollars_per_kw=>[], :wholesale_rate_above_site_load_us_dollars_per_kwh=>0.0, :urdb_label=>\"539fb919ec4f024bc1dc1e5f\"}, :Financial=>{:escalation_pct=>0.026, :offtaker_discount_pct=>0.081, :value_of_lost_load_us_dollars_per_kwh=>100.0, :analysis_years=>20, :microgrid_upgrade_cost_pct=>0.3, :offtaker_tax_pct=>0.26, :om_cost_escalation_pct=>0.025}}}}, {:Scenario=>{:timeout_seconds=>295, :time_steps_per_hour=>1, :Site=>{:Wind=>{:max_kw=>0}, :PV=>{:pbi_years=>1.0, :macrs_bonus_pct=>0.0, :max_kw=>1000000000.0, :pbi_max_us_dollars=>1000000000.0, :radius=>0.0, :state_ibi_pct=>0.0, :utility_rebate_max_us_dollars=>10000000000.0, :installed_cost_us_dollars_per_kw=>2000.0, :utility_ibi_max_us_dollars=>10000000000.0, :tilt=>10.0, :federal_rebate_us_dollars_per_kw=>0.0, :gcr=>0.4, :pbi_system_max_kw=>1000000000.0, :utility_ibi_pct=>0.0, :state_ibi_max_us_dollars=>10000000000.0, :state_rebate_us_dollars_per_kw=>0.0, :macrs_option_years=>5, :state_rebate_max_us_dollars=>10000000000.0, :dc_ac_ratio=>1.1, :federal_itc_pct=>0.3, :pbi_us_dollars_per_kwh=>0.0, :module_type=>0, :array_type=>1, :existing_kw=>0.0, :om_cost_us_dollars_per_kw=>16.0, :utility_rebate_us_dollars_per_kw=>0.0, :min_kw=>0.0, :losses=>0.14, :macrs_itc_reduction=>0.5, :degradation_pct=>0.005, :inv_eff=>0.96, :azimuth=>180.0}, :Generator=>{:pbi_years=>0.0, :macrs_bonus_pct=>0.0, :om_cost_us_dollars_per_kwh=>20.0, :max_kw=>1000000000.0, :pbi_max_us_dollars=>0.0, :state_ibi_pct=>0.0, :fuel_intercept_gal_per_hr=>0.0125, :generator_only_runs_during_grid_outage=>true, :state_rebate_us_dollars_per_kw=>0.0, :installed_cost_us_dollars_per_kw=>2500.0, :utility_ibi_max_us_dollars=>0.0, :fuel_avail_gal=>0.0, :min_turn_down_pct=>0.3, :pbi_system_max_kw=>0.0, :utility_ibi_pct=>0.0, :state_ibi_max_us_dollars=>0.0, :diesel_fuel_cost_us_dollars_per_gallon=>20.0, :fuel_slope_gal_per_kwh=>0.068, :utility_rebate_max_us_dollars=>0.0, :macrs_option_years=>0, :state_rebate_max_us_dollars=>0.0, :federal_itc_pct=>0.0, :existing_kw=>0.0, :pbi_us_dollars_per_kwh=>0.0, :om_cost_us_dollars_per_kw=>50.0, :utility_rebate_us_dollars_per_kw=>0.0, :min_kw=>0.0, :macrs_itc_reduction=>0.0, :federal_rebate_us_dollars_per_kw=>0.0, :generator_sells_energy_back_to_grid=>false}, :LoadProfile=>{:critical_loads_kw_is_net=>false, :critical_load_pct=>0, :loads_kw_is_net=>true}, :roof_squarefeet=>nil, :Storage=>{:max_kwh=>0.0, :rectifier_efficiency_pct=>0.96, :total_itc_pct=>0.0, :min_kw=>0.0, :max_kw=>0.0, :replace_cost_us_dollars_per_kw=>460.0, :replace_cost_us_dollars_per_kwh=>230.0, :min_kwh=>0.0, :installed_cost_us_dollars_per_kw=>1000.0, :total_rebate_us_dollars_per_kw=>0, :installed_cost_us_dollars_per_kwh=>500.0, :inverter_efficiency_pct=>0.96, :macrs_itc_reduction=>0.5, :canGridCharge=>true, :macrs_bonus_pct=>0.0, :battery_replacement_year=>10, :macrs_option_years=>7, :internal_efficiency_pct=>0.975, :soc_min_pct=>0.2, :soc_init_pct=>0.5, :inverter_replacement_year=>10}, :ElectricTariff=>{:add_blended_rates_to_urdb_rate=>false, :wholesale_rate_us_dollars_per_kwh=>0.0, :net_metering_limit_kw=>0.0, :interconnection_limit_kw=>100000000.0, :blended_monthly_demand_charges_us_dollars_per_kw=>[], :wholesale_rate_above_site_load_us_dollars_per_kwh=>0.0, :urdb_label=>\"539fb919ec4f024bc1dc1e5f\"}, :Financial=>{:escalation_pct=>0.026, :offtaker_discount_pct=>0.081, :value_of_lost_load_us_dollars_per_kwh=>100.0, :analysis_years=>20, :microgrid_upgrade_cost_pct=>0.3, :offtaker_tax_pct=>0.26, :om_cost_escalation_pct=>0.025}}}}, {:Scenario=>{:timeout_seconds=>295, :time_steps_per_hour=>1, :Site=>{:Wind=>{:max_kw=>0}, :PV=>{:pbi_years=>1.0, :macrs_bonus_pct=>0.0, :max_kw=>1000000000.0, :pbi_max_us_dollars=>1000000000.0, :radius=>0.0, :state_ibi_pct=>0.0, :utility_rebate_max_us_dollars=>10000000000.0, :installed_cost_us_dollars_per_kw=>2000.0, :utility_ibi_max_us_dollars=>10000000000.0, :tilt=>10.0, :federal_rebate_us_dollars_per_kw=>0.0, :gcr=>0.4, :pbi_system_max_kw=>1000000000.0, :utility_ibi_pct=>0.0, :state_ibi_max_us_dollars=>10000000000.0, :state_rebate_us_dollars_per_kw=>0.0, :macrs_option_years=>5, :state_rebate_max_us_dollars=>10000000000.0, :dc_ac_ratio=>1.1, :federal_itc_pct=>0.3, :pbi_us_dollars_per_kwh=>0.0, :module_type=>0, :array_type=>1, :existing_kw=>0.0, :om_cost_us_dollars_per_kw=>16.0, :utility_rebate_us_dollars_per_kw=>0.0, :min_kw=>0.0, :losses=>0.14, :macrs_itc_reduction=>0.5, :degradation_pct=>0.005, :inv_eff=>0.96, :azimuth=>180.0}, :Generator=>{:pbi_years=>0.0, :macrs_bonus_pct=>0.0, :om_cost_us_dollars_per_kwh=>20.0, :max_kw=>1000000000.0, :pbi_max_us_dollars=>0.0, :state_ibi_pct=>0.0, :fuel_intercept_gal_per_hr=>0.0125, :generator_only_runs_during_grid_outage=>true, :state_rebate_us_dollars_per_kw=>0.0, :installed_cost_us_dollars_per_kw=>2500.0, :utility_ibi_max_us_dollars=>0.0, :fuel_avail_gal=>0.0, :min_turn_down_pct=>0.3, :pbi_system_max_kw=>0.0, :utility_ibi_pct=>0.0, :state_ibi_max_us_dollars=>0.0, :diesel_fuel_cost_us_dollars_per_gallon=>20.0, :fuel_slope_gal_per_kwh=>0.068, :utility_rebate_max_us_dollars=>0.0, :macrs_option_years=>0, :state_rebate_max_us_dollars=>0.0, :federal_itc_pct=>0.0, :existing_kw=>0.0, :pbi_us_dollars_per_kwh=>0.0, :om_cost_us_dollars_per_kw=>50.0, :utility_rebate_us_dollars_per_kw=>0.0, :min_kw=>0.0, :macrs_itc_reduction=>0.0, :federal_rebate_us_dollars_per_kw=>0.0, :generator_sells_energy_back_to_grid=>false}, :LoadProfile=>{:critical_loads_kw_is_net=>false, :critical_load_pct=>0, :loads_kw_is_net=>true}, :roof_squarefeet=>nil, :Storage=>{:max_kwh=>0.0, :rectifier_efficiency_pct=>0.96, :total_itc_pct=>0.0, :min_kw=>0.0, :max_kw=>0.0, :replace_cost_us_dollars_per_kw=>460.0, :replace_cost_us_dollars_per_kwh=>230.0, :min_kwh=>0.0, :installed_cost_us_dollars_per_kw=>1000.0, :total_rebate_us_dollars_per_kw=>0, :installed_cost_us_dollars_per_kwh=>500.0, :inverter_efficiency_pct=>0.96, :macrs_itc_reduction=>0.5, :canGridCharge=>true, :macrs_bonus_pct=>0.0, :battery_replacement_year=>10, :macrs_option_years=>7, :internal_efficiency_pct=>0.975, :soc_min_pct=>0.2, :soc_init_pct=>0.5, :inverter_replacement_year=>10}, :ElectricTariff=>{:add_blended_rates_to_urdb_rate=>false, :wholesale_rate_us_dollars_per_kwh=>0.0, :net_metering_limit_kw=>0.0, :interconnection_limit_kw=>100000000.0, :blended_monthly_demand_charges_us_dollars_per_kw=>[], :wholesale_rate_above_site_load_us_dollars_per_kwh=>0.0, :urdb_label=>\"539fb919ec4f024bc1dc1e5f\"}, :Financial=>{:escalation_pct=>0.026, :offtaker_discount_pct=>0.081, :value_of_lost_load_us_dollars_per_kwh=>100.0, :analysis_years=>20, :microgrid_upgrade_cost_pct=>0.3, :offtaker_tax_pct=>0.26, :om_cost_escalation_pct=>0.025}}}}, {:Scenario=>{:timeout_seconds=>295, :time_steps_per_hour=>1, :Site=>{:Wind=>{:max_kw=>0}, :PV=>{:pbi_years=>1.0, :macrs_bonus_pct=>0.0, :max_kw=>1000000000.0, :pbi_max_us_dollars=>1000000000.0, :radius=>0.0, :state_ibi_pct=>0.0, :utility_rebate_max_us_dollars=>10000000000.0, :installed_cost_us_dollars_per_kw=>2000.0, :utility_ibi_max_us_dollars=>10000000000.0, :tilt=>10.0, :federal_rebate_us_dollars_per_kw=>0.0, :gcr=>0.4, :pbi_system_max_kw=>1000000000.0, :utility_ibi_pct=>0.0, :state_ibi_max_us_dollars=>10000000000.0, :state_rebate_us_dollars_per_kw=>0.0, :macrs_option_years=>5, :state_rebate_max_us_dollars=>10000000000.0, :dc_ac_ratio=>1.1, :federal_itc_pct=>0.3, :pbi_us_dollars_per_kwh=>0.0, :module_type=>0, :array_type=>1, :existing_kw=>0.0, :om_cost_us_dollars_per_kw=>16.0, :utility_rebate_us_dollars_per_kw=>0.0, :min_kw=>0.0, :losses=>0.14, :macrs_itc_reduction=>0.5, :degradation_pct=>0.005, :inv_eff=>0.96, :azimuth=>180.0}, :Generator=>{:pbi_years=>0.0, :macrs_bonus_pct=>0.0, :om_cost_us_dollars_per_kwh=>20.0, :max_kw=>1000000000.0, :pbi_max_us_dollars=>0.0, :state_ibi_pct=>0.0, :fuel_intercept_gal_per_hr=>0.0125, :generator_only_runs_during_grid_outage=>true, :state_rebate_us_dollars_per_kw=>0.0, :installed_cost_us_dollars_per_kw=>2500.0, :utility_ibi_max_us_dollars=>0.0, :fuel_avail_gal=>0.0, :min_turn_down_pct=>0.3, :pbi_system_max_kw=>0.0, :utility_ibi_pct=>0.0, :state_ibi_max_us_dollars=>0.0, :diesel_fuel_cost_us_dollars_per_gallon=>20.0, :fuel_slope_gal_per_kwh=>0.068, :utility_rebate_max_us_dollars=>0.0, :macrs_option_years=>0, :state_rebate_max_us_dollars=>0.0, :federal_itc_pct=>0.0, :existing_kw=>0.0, :pbi_us_dollars_per_kwh=>0.0, :om_cost_us_dollars_per_kw=>50.0, :utility_rebate_us_dollars_per_kw=>0.0, :min_kw=>0.0, :macrs_itc_reduction=>0.0, :federal_rebate_us_dollars_per_kw=>0.0, :generator_sells_energy_back_to_grid=>false}, :LoadProfile=>{:critical_loads_kw_is_net=>false, :critical_load_pct=>0, :loads_kw_is_net=>true}, :roof_squarefeet=>nil, :Storage=>{:max_kwh=>0.0, :rectifier_efficiency_pct=>0.96, :total_itc_pct=>0.0, :min_kw=>0.0, :max_kw=>0.0, :replace_cost_us_dollars_per_kw=>460.0, :replace_cost_us_dollars_per_kwh=>230.0, :min_kwh=>0.0, :installed_cost_us_dollars_per_kw=>1000.0, :total_rebate_us_dollars_per_kw=>0, :installed_cost_us_dollars_per_kwh=>500.0, :inverter_efficiency_pct=>0.96, :macrs_itc_reduction=>0.5, :canGridCharge=>true, :macrs_bonus_pct=>0.0, :battery_replacement_year=>10, :macrs_option_years=>7, :internal_efficiency_pct=>0.975, :soc_min_pct=>0.2, :soc_init_pct=>0.5, :inverter_replacement_year=>10}, :ElectricTariff=>{:add_blended_rates_to_urdb_rate=>false, :wholesale_rate_us_dollars_per_kwh=>0.0, :net_metering_limit_kw=>0.0, :interconnection_limit_kw=>100000000.0, :blended_monthly_demand_charges_us_dollars_per_kw=>[], :wholesale_rate_above_site_load_us_dollars_per_kwh=>0.0, :urdb_label=>\"539fb919ec4f024bc1dc1e5f\"}, :Financial=>{:escalation_pct=>0.026, :offtaker_discount_pct=>0.081, :value_of_lost_load_us_dollars_per_kwh=>100.0, :analysis_years=>20, :microgrid_upgrade_cost_pct=>0.3, :offtaker_tax_pct=>0.26, :om_cost_escalation_pct=>0.025}}}}, {:Scenario=>{:timeout_seconds=>295, :time_steps_per_hour=>1, :Site=>{:Wind=>{:max_kw=>0}, :PV=>{:pbi_years=>1.0, :macrs_bonus_pct=>0.0, :max_kw=>1000000000.0, :pbi_max_us_dollars=>1000000000.0, :radius=>0.0, :state_ibi_pct=>0.0, :utility_rebate_max_us_dollars=>10000000000.0, :installed_cost_us_dollars_per_kw=>2000.0, :utility_ibi_max_us_dollars=>10000000000.0, :tilt=>10.0, :federal_rebate_us_dollars_per_kw=>0.0, :gcr=>0.4, :pbi_system_max_kw=>1000000000.0, :utility_ibi_pct=>0.0, :state_ibi_max_us_dollars=>10000000000.0, :state_rebate_us_dollars_per_kw=>0.0, :macrs_option_years=>5, :state_rebate_max_us_dollars=>10000000000.0, :dc_ac_ratio=>1.1, :federal_itc_pct=>0.3, :pbi_us_dollars_per_kwh=>0.0, :module_type=>0, :array_type=>1, :existing_kw=>0.0, :om_cost_us_dollars_per_kw=>16.0, :utility_rebate_us_dollars_per_kw=>0.0, :min_kw=>0.0, :losses=>0.14, :macrs_itc_reduction=>0.5, :degradation_pct=>0.005, :inv_eff=>0.96, :azimuth=>180.0}, :Generator=>{:pbi_years=>0.0, :macrs_bonus_pct=>0.0, :om_cost_us_dollars_per_kwh=>20.0, :max_kw=>1000000000.0, :pbi_max_us_dollars=>0.0, :state_ibi_pct=>0.0, :fuel_intercept_gal_per_hr=>0.0125, :generator_only_runs_during_grid_outage=>true, :state_rebate_us_dollars_per_kw=>0.0, :installed_cost_us_dollars_per_kw=>2500.0, :utility_ibi_max_us_dollars=>0.0, :fuel_avail_gal=>0.0, :min_turn_down_pct=>0.3, :pbi_system_max_kw=>0.0, :utility_ibi_pct=>0.0, :state_ibi_max_us_dollars=>0.0, :diesel_fuel_cost_us_dollars_per_gallon=>20.0, :fuel_slope_gal_per_kwh=>0.068, :utility_rebate_max_us_dollars=>0.0, :macrs_option_years=>0, :state_rebate_max_us_dollars=>0.0, :federal_itc_pct=>0.0, :existing_kw=>0.0, :pbi_us_dollars_per_kwh=>0.0, :om_cost_us_dollars_per_kw=>50.0, :utility_rebate_us_dollars_per_kw=>0.0, :min_kw=>0.0, :macrs_itc_reduction=>0.0, :federal_rebate_us_dollars_per_kw=>0.0, :generator_sells_energy_back_to_grid=>false}, :LoadProfile=>{:critical_loads_kw_is_net=>false, :critical_load_pct=>0, :loads_kw_is_net=>true}, :roof_squarefeet=>nil, :Storage=>{:max_kwh=>0.0, :rectifier_efficiency_pct=>0.96, :total_itc_pct=>0.0, :min_kw=>0.0, :max_kw=>0.0, :replace_cost_us_dollars_per_kw=>460.0, :replace_cost_us_dollars_per_kwh=>230.0, :min_kwh=>0.0, :installed_cost_us_dollars_per_kw=>1000.0, :total_rebate_us_dollars_per_kw=>0, :installed_cost_us_dollars_per_kwh=>500.0, :inverter_efficiency_pct=>0.96, :macrs_itc_reduction=>0.5, :canGridCharge=>true, :macrs_bonus_pct=>0.0, :battery_replacement_year=>10, :macrs_option_years=>7, :internal_efficiency_pct=>0.975, :soc_min_pct=>0.2, :soc_init_pct=>0.5, :inverter_replacement_year=>10}, :ElectricTariff=>{:add_blended_rates_to_urdb_rate=>false, :wholesale_rate_us_dollars_per_kwh=>0.0, :net_metering_limit_kw=>0.0, :interconnection_limit_kw=>100000000.0, :blended_monthly_demand_charges_us_dollars_per_kw=>[], :wholesale_rate_above_site_load_us_dollars_per_kwh=>0.0, :urdb_label=>\"539fb919ec4f024bc1dc1e5f\"}, :Financial=>{:escalation_pct=>0.026, :offtaker_discount_pct=>0.081, :value_of_lost_load_us_dollars_per_kwh=>100.0, :analysis_years=>20, :microgrid_upgrade_cost_pct=>0.3, :offtaker_tax_pct=>0.26, :om_cost_escalation_pct=>0.025}}}}, {:Scenario=>{:timeout_seconds=>295, :time_steps_per_hour=>1, :Site=>{:Wind=>{:max_kw=>0}, :PV=>{:pbi_years=>1.0, :macrs_bonus_pct=>0.0, :max_kw=>1000000000.0, :pbi_max_us_dollars=>1000000000.0, :radius=>0.0, :state_ibi_pct=>0.0, :utility_rebate_max_us_dollars=>10000000000.0, :installed_cost_us_dollars_per_kw=>2000.0, :utility_ibi_max_us_dollars=>10000000000.0, :tilt=>10.0, :federal_rebate_us_dollars_per_kw=>0.0, :gcr=>0.4, :pbi_system_max_kw=>1000000000.0, :utility_ibi_pct=>0.0, :state_ibi_max_us_dollars=>10000000000.0, :state_rebate_us_dollars_per_kw=>0.0, :macrs_option_years=>5, :state_rebate_max_us_dollars=>10000000000.0, :dc_ac_ratio=>1.1, :federal_itc_pct=>0.3, :pbi_us_dollars_per_kwh=>0.0, :module_type=>0, :array_type=>1, :existing_kw=>0.0, :om_cost_us_dollars_per_kw=>16.0, :utility_rebate_us_dollars_per_kw=>0.0, :min_kw=>0.0, :losses=>0.14, :macrs_itc_reduction=>0.5, :degradation_pct=>0.005, :inv_eff=>0.96, :azimuth=>180.0}, :Generator=>{:pbi_years=>0.0, :macrs_bonus_pct=>0.0, :om_cost_us_dollars_per_kwh=>20.0, :max_kw=>1000000000.0, :pbi_max_us_dollars=>0.0, :state_ibi_pct=>0.0, :fuel_intercept_gal_per_hr=>0.0125, :generator_only_runs_during_grid_outage=>true, :state_rebate_us_dollars_per_kw=>0.0, :installed_cost_us_dollars_per_kw=>2500.0, :utility_ibi_max_us_dollars=>0.0, :fuel_avail_gal=>0.0, :min_turn_down_pct=>0.3, :pbi_system_max_kw=>0.0, :utility_ibi_pct=>0.0, :state_ibi_max_us_dollars=>0.0, :diesel_fuel_cost_us_dollars_per_gallon=>20.0, :fuel_slope_gal_per_kwh=>0.068, :utility_rebate_max_us_dollars=>0.0, :macrs_option_years=>0, :state_rebate_max_us_dollars=>0.0, :federal_itc_pct=>0.0, :existing_kw=>0.0, :pbi_us_dollars_per_kwh=>0.0, :om_cost_us_dollars_per_kw=>50.0, :utility_rebate_us_dollars_per_kw=>0.0, :min_kw=>0.0, :macrs_itc_reduction=>0.0, :federal_rebate_us_dollars_per_kw=>0.0, :generator_sells_energy_back_to_grid=>false}, :LoadProfile=>{:critical_loads_kw_is_net=>false, :critical_load_pct=>0, :loads_kw_is_net=>true}, :roof_squarefeet=>nil, :Storage=>{:max_kwh=>0.0, :rectifier_efficiency_pct=>0.96, :total_itc_pct=>0.0, :min_kw=>0.0, :max_kw=>0.0, :replace_cost_us_dollars_per_kw=>460.0, :replace_cost_us_dollars_per_kwh=>230.0, :min_kwh=>0.0, :installed_cost_us_dollars_per_kw=>1000.0, :total_rebate_us_dollars_per_kw=>0, :installed_cost_us_dollars_per_kwh=>500.0, :inverter_efficiency_pct=>0.96, :macrs_itc_reduction=>0.5, :canGridCharge=>true, :macrs_bonus_pct=>0.0, :battery_replacement_year=>10, :macrs_option_years=>7, :internal_efficiency_pct=>0.975, :soc_min_pct=>0.2, :soc_init_pct=>0.5, :inverter_replacement_year=>10}, :ElectricTariff=>{:add_blended_rates_to_urdb_rate=>false, :wholesale_rate_us_dollars_per_kwh=>0.0, :net_metering_limit_kw=>0.0, :interconnection_limit_kw=>100000000.0, :blended_monthly_demand_charges_us_dollars_per_kw=>[], :wholesale_rate_above_site_load_us_dollars_per_kwh=>0.0, :urdb_label=>\"539fb919ec4f024bc1dc1e5f\"}, :Financial=>{:escalation_pct=>0.026, :offtaker_discount_pct=>0.081, :value_of_lost_load_us_dollars_per_kwh=>100.0, :analysis_years=>20, :microgrid_upgrade_cost_pct=>0.3, :offtaker_tax_pct=>0.26, :om_cost_escalation_pct=>0.025}}}}, {:Scenario=>{:timeout_seconds=>295, :time_steps_per_hour=>1, :Site=>{:Wind=>{:max_kw=>0}, :PV=>{:pbi_years=>1.0, :macrs_bonus_pct=>0.0, :max_kw=>1000000000.0, :pbi_max_us_dollars=>1000000000.0, :radius=>0.0, :state_ibi_pct=>0.0, :utility_rebate_max_us_dollars=>10000000000.0, :installed_cost_us_dollars_per_kw=>2000.0, :utility_ibi_max_us_dollars=>10000000000.0, :tilt=>10.0, :federal_rebate_us_dollars_per_kw=>0.0, :gcr=>0.4, :pbi_system_max_kw=>1000000000.0, :utility_ibi_pct=>0.0, :state_ibi_max_us_dollars=>10000000000.0, :state_rebate_us_dollars_per_kw=>0.0, :macrs_option_years=>5, :state_rebate_max_us_dollars=>10000000000.0, :dc_ac_ratio=>1.1, :federal_itc_pct=>0.3, :pbi_us_dollars_per_kwh=>0.0, :module_type=>0, :array_type=>1, :existing_kw=>0.0, :om_cost_us_dollars_per_kw=>16.0, :utility_rebate_us_dollars_per_kw=>0.0, :min_kw=>0.0, :losses=>0.14, :macrs_itc_reduction=>0.5, :degradation_pct=>0.005, :inv_eff=>0.96, :azimuth=>180.0}, :Generator=>{:pbi_years=>0.0, :macrs_bonus_pct=>0.0, :om_cost_us_dollars_per_kwh=>20.0, :max_kw=>1000000000.0, :pbi_max_us_dollars=>0.0, :state_ibi_pct=>0.0, :fuel_intercept_gal_per_hr=>0.0125, :generator_only_runs_during_grid_outage=>true, :state_rebate_us_dollars_per_kw=>0.0, :installed_cost_us_dollars_per_kw=>2500.0, :utility_ibi_max_us_dollars=>0.0, :fuel_avail_gal=>0.0, :min_turn_down_pct=>0.3, :pbi_system_max_kw=>0.0, :utility_ibi_pct=>0.0, :state_ibi_max_us_dollars=>0.0, :diesel_fuel_cost_us_dollars_per_gallon=>20.0, :fuel_slope_gal_per_kwh=>0.068, :utility_rebate_max_us_dollars=>0.0, :macrs_option_years=>0, :state_rebate_max_us_dollars=>0.0, :federal_itc_pct=>0.0, :existing_kw=>0.0, :pbi_us_dollars_per_kwh=>0.0, :om_cost_us_dollars_per_kw=>50.0, :utility_rebate_us_dollars_per_kw=>0.0, :min_kw=>0.0, :macrs_itc_reduction=>0.0, :federal_rebate_us_dollars_per_kw=>0.0, :generator_sells_energy_back_to_grid=>false}, :LoadProfile=>{:critical_loads_kw_is_net=>false, :critical_load_pct=>0, :loads_kw_is_net=>true}, :roof_squarefeet=>nil, :Storage=>{:max_kwh=>0.0, :rectifier_efficiency_pct=>0.96, :total_itc_pct=>0.0, :min_kw=>0.0, :max_kw=>0.0, :replace_cost_us_dollars_per_kw=>460.0, :replace_cost_us_dollars_per_kwh=>230.0, :min_kwh=>0.0, :installed_cost_us_dollars_per_kw=>1000.0, :total_rebate_us_dollars_per_kw=>0, :installed_cost_us_dollars_per_kwh=>500.0, :inverter_efficiency_pct=>0.96, :macrs_itc_reduction=>0.5, :canGridCharge=>true, :macrs_bonus_pct=>0.0, :battery_replacement_year=>10, :macrs_option_years=>7, :internal_efficiency_pct=>0.975, :soc_min_pct=>0.2, :soc_init_pct=>0.5, :inverter_replacement_year=>10}, :ElectricTariff=>{:add_blended_rates_to_urdb_rate=>false, :wholesale_rate_us_dollars_per_kwh=>0.0, :net_metering_limit_kw=>0.0, :interconnection_limit_kw=>100000000.0, :blended_monthly_demand_charges_us_dollars_per_kw=>[], :wholesale_rate_above_site_load_us_dollars_per_kwh=>0.0, :urdb_label=>\"539fb919ec4f024bc1dc1e5f\"}, :Financial=>{:escalation_pct=>0.026, :offtaker_discount_pct=>0.081, :value_of_lost_load_us_dollars_per_kwh=>100.0, :analysis_years=>20, :microgrid_upgrade_cost_pct=>0.3, :offtaker_tax_pct=>0.26, :om_cost_escalation_pct=>0.025}}}}, {:Scenario=>{:timeout_seconds=>295, :time_steps_per_hour=>1, :Site=>{:Wind=>{:max_kw=>0}, :PV=>{:pbi_years=>1.0, :macrs_bonus_pct=>0.0, :max_kw=>1000000000.0, :pbi_max_us_dollars=>1000000000.0, :radius=>0.0, :state_ibi_pct=>0.0, :utility_rebate_max_us_dollars=>10000000000.0, :installed_cost_us_dollars_per_kw=>2000.0, :utility_ibi_max_us_dollars=>10000000000.0, :tilt=>10.0, :federal_rebate_us_dollars_per_kw=>0.0, :gcr=>0.4, :pbi_system_max_kw=>1000000000.0, :utility_ibi_pct=>0.0, :state_ibi_max_us_dollars=>10000000000.0, :state_rebate_us_dollars_per_kw=>0.0, :macrs_option_years=>5, :state_rebate_max_us_dollars=>10000000000.0, :dc_ac_ratio=>1.1, :federal_itc_pct=>0.3, :pbi_us_dollars_per_kwh=>0.0, :module_type=>0, :array_type=>1, :existing_kw=>0.0, :om_cost_us_dollars_per_kw=>16.0, :utility_rebate_us_dollars_per_kw=>0.0, :min_kw=>0.0, :losses=>0.14, :macrs_itc_reduction=>0.5, :degradation_pct=>0.005, :inv_eff=>0.96, :azimuth=>180.0}, :Generator=>{:pbi_years=>0.0, :macrs_bonus_pct=>0.0, :om_cost_us_dollars_per_kwh=>20.0, :max_kw=>1000000000.0, :pbi_max_us_dollars=>0.0, :state_ibi_pct=>0.0, :fuel_intercept_gal_per_hr=>0.0125, :generator_only_runs_during_grid_outage=>true, :state_rebate_us_dollars_per_kw=>0.0, :installed_cost_us_dollars_per_kw=>2500.0, :utility_ibi_max_us_dollars=>0.0, :fuel_avail_gal=>0.0, :min_turn_down_pct=>0.3, :pbi_system_max_kw=>0.0, :utility_ibi_pct=>0.0, :state_ibi_max_us_dollars=>0.0, :diesel_fuel_cost_us_dollars_per_gallon=>20.0, :fuel_slope_gal_per_kwh=>0.068, :utility_rebate_max_us_dollars=>0.0, :macrs_option_years=>0, :state_rebate_max_us_dollars=>0.0, :federal_itc_pct=>0.0, :existing_kw=>0.0, :pbi_us_dollars_per_kwh=>0.0, :om_cost_us_dollars_per_kw=>50.0, :utility_rebate_us_dollars_per_kw=>0.0, :min_kw=>0.0, :macrs_itc_reduction=>0.0, :federal_rebate_us_dollars_per_kw=>0.0, :generator_sells_energy_back_to_grid=>false}, :LoadProfile=>{:critical_loads_kw_is_net=>false, :critical_load_pct=>0, :loads_kw_is_net=>true}, :roof_squarefeet=>nil, :Storage=>{:max_kwh=>0.0, :rectifier_efficiency_pct=>0.96, :total_itc_pct=>0.0, :min_kw=>0.0, :max_kw=>0.0, :replace_cost_us_dollars_per_kw=>460.0, :replace_cost_us_dollars_per_kwh=>230.0, :min_kwh=>0.0, :installed_cost_us_dollars_per_kw=>1000.0, :total_rebate_us_dollars_per_kw=>0, :installed_cost_us_dollars_per_kwh=>500.0, :inverter_efficiency_pct=>0.96, :macrs_itc_reduction=>0.5, :canGridCharge=>true, :macrs_bonus_pct=>0.0, :battery_replacement_year=>10, :macrs_option_years=>7, :internal_efficiency_pct=>0.975, :soc_min_pct=>0.2, :soc_init_pct=>0.5, :inverter_replacement_year=>10}, :ElectricTariff=>{:add_blended_rates_to_urdb_rate=>false, :wholesale_rate_us_dollars_per_kwh=>0.0, :net_metering_limit_kw=>0.0, :interconnection_limit_kw=>100000000.0, :blended_monthly_demand_charges_us_dollars_per_kw=>[], :wholesale_rate_above_site_load_us_dollars_per_kwh=>0.0, :urdb_label=>\"539fb919ec4f024bc1dc1e5f\"}, :Financial=>{:escalation_pct=>0.026, :offtaker_discount_pct=>0.081, :value_of_lost_load_us_dollars_per_kwh=>100.0, :analysis_years=>20, :microgrid_upgrade_cost_pct=>0.3, :offtaker_tax_pct=>0.26, :om_cost_escalation_pct=>0.025}}}}, {:Scenario=>{:timeout_seconds=>295, :time_steps_per_hour=>1, :Site=>{:Wind=>{:max_kw=>0}, :PV=>{:pbi_years=>1.0, :macrs_bonus_pct=>0.0, :max_kw=>1000000000.0, :pbi_max_us_dollars=>1000000000.0, :radius=>0.0, :state_ibi_pct=>0.0, :utility_rebate_max_us_dollars=>10000000000.0, :installed_cost_us_dollars_per_kw=>2000.0, :utility_ibi_max_us_dollars=>10000000000.0, :tilt=>10.0, :federal_rebate_us_dollars_per_kw=>0.0, :gcr=>0.4, :pbi_system_max_kw=>1000000000.0, :utility_ibi_pct=>0.0, :state_ibi_max_us_dollars=>10000000000.0, :state_rebate_us_dollars_per_kw=>0.0, :macrs_option_years=>5, :state_rebate_max_us_dollars=>10000000000.0, :dc_ac_ratio=>1.1, :federal_itc_pct=>0.3, :pbi_us_dollars_per_kwh=>0.0, :module_type=>0, :array_type=>1, :existing_kw=>0.0, :om_cost_us_dollars_per_kw=>16.0, :utility_rebate_us_dollars_per_kw=>0.0, :min_kw=>0.0, :losses=>0.14, :macrs_itc_reduction=>0.5, :degradation_pct=>0.005, :inv_eff=>0.96, :azimuth=>180.0}, :Generator=>{:pbi_years=>0.0, :macrs_bonus_pct=>0.0, :om_cost_us_dollars_per_kwh=>20.0, :max_kw=>1000000000.0, :pbi_max_us_dollars=>0.0, :state_ibi_pct=>0.0, :fuel_intercept_gal_per_hr=>0.0125, :generator_only_runs_during_grid_outage=>true, :state_rebate_us_dollars_per_kw=>0.0, :installed_cost_us_dollars_per_kw=>2500.0, :utility_ibi_max_us_dollars=>0.0, :fuel_avail_gal=>0.0, :min_turn_down_pct=>0.3, :pbi_system_max_kw=>0.0, :utility_ibi_pct=>0.0, :state_ibi_max_us_dollars=>0.0, :diesel_fuel_cost_us_dollars_per_gallon=>20.0, :fuel_slope_gal_per_kwh=>0.068, :utility_rebate_max_us_dollars=>0.0, :macrs_option_years=>0, :state_rebate_max_us_dollars=>0.0, :federal_itc_pct=>0.0, :existing_kw=>0.0, :pbi_us_dollars_per_kwh=>0.0, :om_cost_us_dollars_per_kw=>50.0, :utility_rebate_us_dollars_per_kw=>0.0, :min_kw=>0.0, :macrs_itc_reduction=>0.0, :federal_rebate_us_dollars_per_kw=>0.0, :generator_sells_energy_back_to_grid=>false}, :LoadProfile=>{:critical_loads_kw_is_net=>false, :critical_load_pct=>0, :loads_kw_is_net=>true}, :roof_squarefeet=>nil, :Storage=>{:max_kwh=>0.0, :rectifier_efficiency_pct=>0.96, :total_itc_pct=>0.0, :min_kw=>0.0, :max_kw=>0.0, :replace_cost_us_dollars_per_kw=>460.0, :replace_cost_us_dollars_per_kwh=>230.0, :min_kwh=>0.0, :installed_cost_us_dollars_per_kw=>1000.0, :total_rebate_us_dollars_per_kw=>0, :installed_cost_us_dollars_per_kwh=>500.0, :inverter_efficiency_pct=>0.96, :macrs_itc_reduction=>0.5, :canGridCharge=>true, :macrs_bonus_pct=>0.0, :battery_replacement_year=>10, :macrs_option_years=>7, :internal_efficiency_pct=>0.975, :soc_min_pct=>0.2, :soc_init_pct=>0.5, :inverter_replacement_year=>10}, :ElectricTariff=>{:add_blended_rates_to_urdb_rate=>false, :wholesale_rate_us_dollars_per_kwh=>0.0, :net_metering_limit_kw=>0.0, :interconnection_limit_kw=>100000000.0, :blended_monthly_demand_charges_us_dollars_per_kw=>[], :wholesale_rate_above_site_load_us_dollars_per_kwh=>0.0, :urdb_label=>\"539fb919ec4f024bc1dc1e5f\"}, :Financial=>{:escalation_pct=>0.026, :offtaker_discount_pct=>0.081, :value_of_lost_load_us_dollars_per_kwh=>100.0, :analysis_years=>20, :microgrid_upgrade_cost_pct=>0.3, :offtaker_tax_pct=>0.26, :om_cost_escalation_pct=>0.025}}}}, {:Scenario=>{:timeout_seconds=>295, :time_steps_per_hour=>1, :Site=>{:Wind=>{:max_kw=>0}, :PV=>{:pbi_years=>1.0, :macrs_bonus_pct=>0.0, :max_kw=>1000000000.0, :pbi_max_us_dollars=>1000000000.0, :radius=>0.0, :state_ibi_pct=>0.0, :utility_rebate_max_us_dollars=>10000000000.0, :installed_cost_us_dollars_per_kw=>2000.0, :utility_ibi_max_us_dollars=>10000000000.0, :tilt=>10.0, :federal_rebate_us_dollars_per_kw=>0.0, :gcr=>0.4, :pbi_system_max_kw=>1000000000.0, :utility_ibi_pct=>0.0, :state_ibi_max_us_dollars=>10000000000.0, :state_rebate_us_dollars_per_kw=>0.0, :macrs_option_years=>5, :state_rebate_max_us_dollars=>10000000000.0, :dc_ac_ratio=>1.1, :federal_itc_pct=>0.3, :pbi_us_dollars_per_kwh=>0.0, :module_type=>0, :array_type=>1, :existing_kw=>0.0, :om_cost_us_dollars_per_kw=>16.0, :utility_rebate_us_dollars_per_kw=>0.0, :min_kw=>0.0, :losses=>0.14, :macrs_itc_reduction=>0.5, :degradation_pct=>0.005, :inv_eff=>0.96, :azimuth=>180.0}, :Generator=>{:pbi_years=>0.0, :macrs_bonus_pct=>0.0, :om_cost_us_dollars_per_kwh=>20.0, :max_kw=>1000000000.0, :pbi_max_us_dollars=>0.0, :state_ibi_pct=>0.0, :fuel_intercept_gal_per_hr=>0.0125, :generator_only_runs_during_grid_outage=>true, :state_rebate_us_dollars_per_kw=>0.0, :installed_cost_us_dollars_per_kw=>2500.0, :utility_ibi_max_us_dollars=>0.0, :fuel_avail_gal=>0.0, :min_turn_down_pct=>0.3, :pbi_system_max_kw=>0.0, :utility_ibi_pct=>0.0, :state_ibi_max_us_dollars=>0.0, :diesel_fuel_cost_us_dollars_per_gallon=>20.0, :fuel_slope_gal_per_kwh=>0.068, :utility_rebate_max_us_dollars=>0.0, :macrs_option_years=>0, :state_rebate_max_us_dollars=>0.0, :federal_itc_pct=>0.0, :existing_kw=>0.0, :pbi_us_dollars_per_kwh=>0.0, :om_cost_us_dollars_per_kw=>50.0, :utility_rebate_us_dollars_per_kw=>0.0, :min_kw=>0.0, :macrs_itc_reduction=>0.0, :federal_rebate_us_dollars_per_kw=>0.0, :generator_sells_energy_back_to_grid=>false}, :LoadProfile=>{:critical_loads_kw_is_net=>false, :critical_load_pct=>0, :loads_kw_is_net=>true}, :roof_squarefeet=>nil, :Storage=>{:max_kwh=>0.0, :rectifier_efficiency_pct=>0.96, :total_itc_pct=>0.0, :min_kw=>0.0, :max_kw=>0.0, :replace_cost_us_dollars_per_kw=>460.0, :replace_cost_us_dollars_per_kwh=>230.0, :min_kwh=>0.0, :installed_cost_us_dollars_per_kw=>1000.0, :total_rebate_us_dollars_per_kw=>0, :installed_cost_us_dollars_per_kwh=>500.0, :inverter_efficiency_pct=>0.96, :macrs_itc_reduction=>0.5, :canGridCharge=>true, :macrs_bonus_pct=>0.0, :battery_replacement_year=>10, :macrs_option_years=>7, :internal_efficiency_pct=>0.975, :soc_min_pct=>0.2, :soc_init_pct=>0.5, :inverter_replacement_year=>10}, :ElectricTariff=>{:add_blended_rates_to_urdb_rate=>false, :wholesale_rate_us_dollars_per_kwh=>0.0, :net_metering_limit_kw=>0.0, :interconnection_limit_kw=>100000000.0, :blended_monthly_demand_charges_us_dollars_per_kw=>[], :wholesale_rate_above_site_load_us_dollars_per_kwh=>0.0, :urdb_label=>\"539fb919ec4f024bc1dc1e5f\"}, :Financial=>{:escalation_pct=>0.026, :offtaker_discount_pct=>0.081, :value_of_lost_load_us_dollars_per_kwh=>100.0, :analysis_years=>20, :microgrid_upgrade_cost_pct=>0.3, :offtaker_tax_pct=>0.26, :om_cost_escalation_pct=>0.025}}}}, {:Scenario=>{:timeout_seconds=>295, :time_steps_per_hour=>1, :Site=>{:Wind=>{:max_kw=>0}, :PV=>{:pbi_years=>1.0, :macrs_bonus_pct=>0.0, :max_kw=>1000000000.0, :pbi_max_us_dollars=>1000000000.0, :radius=>0.0, :state_ibi_pct=>0.0, :utility_rebate_max_us_dollars=>10000000000.0, :installed_cost_us_dollars_per_kw=>2000.0, :utility_ibi_max_us_dollars=>10000000000.0, :tilt=>10.0, :federal_rebate_us_dollars_per_kw=>0.0, :gcr=>0.4, :pbi_system_max_kw=>1000000000.0, :utility_ibi_pct=>0.0, :state_ibi_max_us_dollars=>10000000000.0, :state_rebate_us_dollars_per_kw=>0.0, :macrs_option_years=>5, :state_rebate_max_us_dollars=>10000000000.0, :dc_ac_ratio=>1.1, :federal_itc_pct=>0.3, :pbi_us_dollars_per_kwh=>0.0, :module_type=>0, :array_type=>1, :existing_kw=>0.0, :om_cost_us_dollars_per_kw=>16.0, :utility_rebate_us_dollars_per_kw=>0.0, :min_kw=>0.0, :losses=>0.14, :macrs_itc_reduction=>0.5, :degradation_pct=>0.005, :inv_eff=>0.96, :azimuth=>180.0}, :Generator=>{:pbi_years=>0.0, :macrs_bonus_pct=>0.0, :om_cost_us_dollars_per_kwh=>20.0, :max_kw=>1000000000.0, :pbi_max_us_dollars=>0.0, :state_ibi_pct=>0.0, :fuel_intercept_gal_per_hr=>0.0125, :generator_only_runs_during_grid_outage=>true, :state_rebate_us_dollars_per_kw=>0.0, :installed_cost_us_dollars_per_kw=>2500.0, :utility_ibi_max_us_dollars=>0.0, :fuel_avail_gal=>0.0, :min_turn_down_pct=>0.3, :pbi_system_max_kw=>0.0, :utility_ibi_pct=>0.0, :state_ibi_max_us_dollars=>0.0, :diesel_fuel_cost_us_dollars_per_gallon=>20.0, :fuel_slope_gal_per_kwh=>0.068, :utility_rebate_max_us_dollars=>0.0, :macrs_option_years=>0, :state_rebate_max_us_dollars=>0.0, :federal_itc_pct=>0.0, :existing_kw=>0.0, :pbi_us_dollars_per_kwh=>0.0, :om_cost_us_dollars_per_kw=>50.0, :utility_rebate_us_dollars_per_kw=>0.0, :min_kw=>0.0, :macrs_itc_reduction=>0.0, :federal_rebate_us_dollars_per_kw=>0.0, :generator_sells_energy_back_to_grid=>false}, :LoadProfile=>{:critical_loads_kw_is_net=>false, :critical_load_pct=>0, :loads_kw_is_net=>true}, :roof_squarefeet=>nil, :Storage=>{:max_kwh=>0.0, :rectifier_efficiency_pct=>0.96, :total_itc_pct=>0.0, :min_kw=>0.0, :max_kw=>0.0, :replace_cost_us_dollars_per_kw=>460.0, :replace_cost_us_dollars_per_kwh=>230.0, :min_kwh=>0.0, :installed_cost_us_dollars_per_kw=>1000.0, :total_rebate_us_dollars_per_kw=>0, :installed_cost_us_dollars_per_kwh=>500.0, :inverter_efficiency_pct=>0.96, :macrs_itc_reduction=>0.5, :canGridCharge=>true, :macrs_bonus_pct=>0.0, :battery_replacement_year=>10, :macrs_option_years=>7, :internal_efficiency_pct=>0.975, :soc_min_pct=>0.2, :soc_init_pct=>0.5, :inverter_replacement_year=>10}, :ElectricTariff=>{:add_blended_rates_to_urdb_rate=>false, :wholesale_rate_us_dollars_per_kwh=>0.0, :net_metering_limit_kw=>0.0, :interconnection_limit_kw=>100000000.0, :blended_monthly_demand_charges_us_dollars_per_kw=>[], :wholesale_rate_above_site_load_us_dollars_per_kwh=>0.0, :urdb_label=>\"539fb919ec4f024bc1dc1e5f\"}, :Financial=>{:escalation_pct=>0.026, :offtaker_discount_pct=>0.081, :value_of_lost_load_us_dollars_per_kwh=>100.0, :analysis_years=>20, :microgrid_upgrade_cost_pct=>0.3, :offtaker_tax_pct=>0.26, :om_cost_escalation_pct=>0.025}}}}, {:Scenario=>{:timeout_seconds=>295, :time_steps_per_hour=>1, :Site=>{:Wind=>{:max_kw=>0}, :PV=>{:pbi_years=>1.0, :macrs_bonus_pct=>0.0, :max_kw=>1000000000.0, :pbi_max_us_dollars=>1000000000.0, :radius=>0.0, :state_ibi_pct=>0.0, :utility_rebate_max_us_dollars=>10000000000.0, :installed_cost_us_dollars_per_kw=>2000.0, :utility_ibi_max_us_dollars=>10000000000.0, :tilt=>10.0, :federal_rebate_us_dollars_per_kw=>0.0, :gcr=>0.4, :pbi_system_max_kw=>1000000000.0, :utility_ibi_pct=>0.0, :state_ibi_max_us_dollars=>10000000000.0, :state_rebate_us_dollars_per_kw=>0.0, :macrs_option_years=>5, :state_rebate_max_us_dollars=>10000000000.0, :dc_ac_ratio=>1.1, :federal_itc_pct=>0.3, :pbi_us_dollars_per_kwh=>0.0, :module_type=>0, :array_type=>1, :existing_kw=>0.0, :om_cost_us_dollars_per_kw=>16.0, :utility_rebate_us_dollars_per_kw=>0.0, :min_kw=>0.0, :losses=>0.14, :macrs_itc_reduction=>0.5, :degradation_pct=>0.005, :inv_eff=>0.96, :azimuth=>180.0}, :Generator=>{:pbi_years=>0.0, :macrs_bonus_pct=>0.0, :om_cost_us_dollars_per_kwh=>20.0, :max_kw=>1000000000.0, :pbi_max_us_dollars=>0.0, :state_ibi_pct=>0.0, :fuel_intercept_gal_per_hr=>0.0125, :generator_only_runs_during_grid_outage=>true, :state_rebate_us_dollars_per_kw=>0.0, :installed_cost_us_dollars_per_kw=>2500.0, :utility_ibi_max_us_dollars=>0.0, :fuel_avail_gal=>0.0, :min_turn_down_pct=>0.3, :pbi_system_max_kw=>0.0, :utility_ibi_pct=>0.0, :state_ibi_max_us_dollars=>0.0, :diesel_fuel_cost_us_dollars_per_gallon=>20.0, :fuel_slope_gal_per_kwh=>0.068, :utility_rebate_max_us_dollars=>0.0, :macrs_option_years=>0, :state_rebate_max_us_dollars=>0.0, :federal_itc_pct=>0.0, :existing_kw=>0.0, :pbi_us_dollars_per_kwh=>0.0, :om_cost_us_dollars_per_kw=>50.0, :utility_rebate_us_dollars_per_kw=>0.0, :min_kw=>0.0, :macrs_itc_reduction=>0.0, :federal_rebate_us_dollars_per_kw=>0.0, :generator_sells_energy_back_to_grid=>false}, :LoadProfile=>{:critical_loads_kw_is_net=>false, :critical_load_pct=>0, :loads_kw_is_net=>true}, :roof_squarefeet=>nil, :Storage=>{:max_kwh=>0.0, :rectifier_efficiency_pct=>0.96, :total_itc_pct=>0.0, :min_kw=>0.0, :max_kw=>0.0, :replace_cost_us_dollars_per_kw=>460.0, :replace_cost_us_dollars_per_kwh=>230.0, :min_kwh=>0.0, :installed_cost_us_dollars_per_kw=>1000.0, :total_rebate_us_dollars_per_kw=>0, :installed_cost_us_dollars_per_kwh=>500.0, :inverter_efficiency_pct=>0.96, :macrs_itc_reduction=>0.5, :canGridCharge=>true, :macrs_bonus_pct=>0.0, :battery_replacement_year=>10, :macrs_option_years=>7, :internal_efficiency_pct=>0.975, :soc_min_pct=>0.2, :soc_init_pct=>0.5, :inverter_replacement_year=>10}, :ElectricTariff=>{:add_blended_rates_to_urdb_rate=>false, :wholesale_rate_us_dollars_per_kwh=>0.0, :net_metering_limit_kw=>0.0, :interconnection_limit_kw=>100000000.0, :blended_monthly_demand_charges_us_dollars_per_kw=>[], :wholesale_rate_above_site_load_us_dollars_per_kwh=>0.0, :urdb_label=>\"539fb919ec4f024bc1dc1e5f\"}, :Financial=>{:escalation_pct=>0.026, :offtaker_discount_pct=>0.081, :value_of_lost_load_us_dollars_per_kwh=>100.0, :analysis_years=>20, :microgrid_upgrade_cost_pct=>0.3, :offtaker_tax_pct=>0.26, :om_cost_escalation_pct=>0.025}}}}, {:Scenario=>{:timeout_seconds=>295, :time_steps_per_hour=>1, :Site=>{:Wind=>{:max_kw=>0}, :PV=>{:pbi_years=>1.0, :macrs_bonus_pct=>0.0, :max_kw=>1000000000.0, :pbi_max_us_dollars=>1000000000.0, :radius=>0.0, :state_ibi_pct=>0.0, :utility_rebate_max_us_dollars=>10000000000.0, :installed_cost_us_dollars_per_kw=>2000.0, :utility_ibi_max_us_dollars=>10000000000.0, :tilt=>10.0, :federal_rebate_us_dollars_per_kw=>0.0, :gcr=>0.4, :pbi_system_max_kw=>1000000000.0, :utility_ibi_pct=>0.0, :state_ibi_max_us_dollars=>10000000000.0, :state_rebate_us_dollars_per_kw=>0.0, :macrs_option_years=>5, :state_rebate_max_us_dollars=>10000000000.0, :dc_ac_ratio=>1.1, :federal_itc_pct=>0.3, :pbi_us_dollars_per_kwh=>0.0, :module_type=>0, :array_type=>1, :existing_kw=>0.0, :om_cost_us_dollars_per_kw=>16.0, :utility_rebate_us_dollars_per_kw=>0.0, :min_kw=>0.0, :losses=>0.14, :macrs_itc_reduction=>0.5, :degradation_pct=>0.005, :inv_eff=>0.96, :azimuth=>180.0}, :Generator=>{:pbi_years=>0.0, :macrs_bonus_pct=>0.0, :om_cost_us_dollars_per_kwh=>20.0, :max_kw=>1000000000.0, :pbi_max_us_dollars=>0.0, :state_ibi_pct=>0.0, :fuel_intercept_gal_per_hr=>0.0125, :generator_only_runs_during_grid_outage=>true, :state_rebate_us_dollars_per_kw=>0.0, :installed_cost_us_dollars_per_kw=>2500.0, :utility_ibi_max_us_dollars=>0.0, :fuel_avail_gal=>0.0, :min_turn_down_pct=>0.3, :pbi_system_max_kw=>0.0, :utility_ibi_pct=>0.0, :state_ibi_max_us_dollars=>0.0, :diesel_fuel_cost_us_dollars_per_gallon=>20.0, :fuel_slope_gal_per_kwh=>0.068, :utility_rebate_max_us_dollars=>0.0, :macrs_option_years=>0, :state_rebate_max_us_dollars=>0.0, :federal_itc_pct=>0.0, :existing_kw=>0.0, :pbi_us_dollars_per_kwh=>0.0, :om_cost_us_dollars_per_kw=>50.0, :utility_rebate_us_dollars_per_kw=>0.0, :min_kw=>0.0, :macrs_itc_reduction=>0.0, :federal_rebate_us_dollars_per_kw=>0.0, :generator_sells_energy_back_to_grid=>false}, :LoadProfile=>{:critical_loads_kw_is_net=>false, :critical_load_pct=>0, :loads_kw_is_net=>true}, :roof_squarefeet=>nil, :Storage=>{:max_kwh=>0.0, :rectifier_efficiency_pct=>0.96, :total_itc_pct=>0.0, :min_kw=>0.0, :max_kw=>0.0, :replace_cost_us_dollars_per_kw=>460.0, :replace_cost_us_dollars_per_kwh=>230.0, :min_kwh=>0.0, :installed_cost_us_dollars_per_kw=>1000.0, :total_rebate_us_dollars_per_kw=>0, :installed_cost_us_dollars_per_kwh=>500.0, :inverter_efficiency_pct=>0.96, :macrs_itc_reduction=>0.5, :canGridCharge=>true, :macrs_bonus_pct=>0.0, :battery_replacement_year=>10, :macrs_option_years=>7, :internal_efficiency_pct=>0.975, :soc_min_pct=>0.2, :soc_init_pct=>0.5, :inverter_replacement_year=>10}, :ElectricTariff=>{:add_blended_rates_to_urdb_rate=>false, :wholesale_rate_us_dollars_per_kwh=>0.0, :net_metering_limit_kw=>0.0, :interconnection_limit_kw=>100000000.0, :blended_monthly_demand_charges_us_dollars_per_kw=>[], :wholesale_rate_above_site_load_us_dollars_per_kwh=>0.0, :urdb_label=>\"539fb919ec4f024bc1dc1e5f\"}, :Financial=>{:escalation_pct=>0.026, :offtaker_discount_pct=>0.081, :value_of_lost_load_us_dollars_per_kwh=>100.0, :analysis_years=>20, :microgrid_upgrade_cost_pct=>0.3, :offtaker_tax_pct=>0.26, :om_cost_escalation_pct=>0.025}}}}]\n"
     ]
    },
    {
     "data": {
      "text/plain": [
       "[\"Feature Level Assumptions\", [{:Scenario=>{:timeout_seconds=>295, :time_steps_per_hour=>1, :Site=>{:Wind=>{:max_kw=>0}, :PV=>{:pbi_years=>1.0, :macrs_bonus_pct=>0.0, :max_kw=>1000000000.0, :pbi_max_us_dollars=>1000000000.0, :radius=>0.0, :state_ibi_pct=>0.0, :utility_rebate_max_us_dollars=>10000000000.0, :installed_cost_us_dollars_per_kw=>2000.0, :utility_ibi_max_us_dollars=>10000000000.0, :tilt=>10.0, :federal_rebate_us_dollars_per_kw=>0.0, :gcr=>0.4, :pbi_system_max_kw=>1000000000.0, :utility_ibi_pct=>0.0, :state_ibi_max_us_dollars=>10000000000.0, :state_rebate_us_dollars_per_kw=>0.0, :macrs_option_years=>5, :state_rebate_max_us_dollars=>10000000000.0, :dc_ac_ratio=>1.1, :federal_itc_pct=>0.3, :pbi_us_dollars_per_kwh=>0.0, :module_type=>0, :array_type=>1, :existing_kw=>0.0, :om_cost_us_dollars_per_kw=>16.0, :utility_rebate_us_dollars_per_kw=>0.0, :min_kw=>0.0, :losses=>0.14, :macrs_itc_reduction=>0.5, :degradation_pct=>0.005, :inv_eff=>0.96, :azimuth=>180.0}, :Generator=>{:pbi_years=>0.0, :macrs_bonus_pct=>0.0, :om_cost_us_dollars_per_kwh=>20.0, :max_kw=>1000000000.0, :pbi_max_us_dollars=>0.0, :state_ibi_pct=>0.0, :fuel_intercept_gal_per_hr=>0.0125, :generator_only_runs_during_grid_outage=>true, :state_rebate_us_dollars_per_kw=>0.0, :installed_cost_us_dollars_per_kw=>2500.0, :utility_ibi_max_us_dollars=>0.0, :fuel_avail_gal=>0.0, :min_turn_down_pct=>0.3, :pbi_system_max_kw=>0.0, :utility_ibi_pct=>0.0, :state_ibi_max_us_dollars=>0.0, :diesel_fuel_cost_us_dollars_per_gallon=>20.0, :fuel_slope_gal_per_kwh=>0.068, :utility_rebate_max_us_dollars=>0.0, :macrs_option_years=>0, :state_rebate_max_us_dollars=>0.0, :federal_itc_pct=>0.0, :existing_kw=>0.0, :pbi_us_dollars_per_kwh=>0.0, :om_cost_us_dollars_per_kw=>50.0, :utility_rebate_us_dollars_per_kw=>0.0, :min_kw=>0.0, :macrs_itc_reduction=>0.0, :federal_rebate_us_dollars_per_kw=>0.0, :generator_sells_energy_back_to_grid=>false}, :LoadProfile=>{:critical_loads_kw_is_net=>false, :critical_load_pct=>0, :loads_kw_is_net=>true}, :roof_squarefeet=>nil, :Storage=>{:max_kwh=>0.0, :rectifier_efficiency_pct=>0.96, :total_itc_pct=>0.0, :min_kw=>0.0, :max_kw=>0.0, :replace_cost_us_dollars_per_kw=>460.0, :replace_cost_us_dollars_per_kwh=>230.0, :min_kwh=>0.0, :installed_cost_us_dollars_per_kw=>1000.0, :total_rebate_us_dollars_per_kw=>0, :installed_cost_us_dollars_per_kwh=>500.0, :inverter_efficiency_pct=>0.96, :macrs_itc_reduction=>0.5, :canGridCharge=>true, :macrs_bonus_pct=>0.0, :battery_replacement_year=>10, :macrs_option_years=>7, :internal_efficiency_pct=>0.975, :soc_min_pct=>0.2, :soc_init_pct=>0.5, :inverter_replacement_year=>10}, :ElectricTariff=>{:add_blended_rates_to_urdb_rate=>false, :wholesale_rate_us_dollars_per_kwh=>0.0, :net_metering_limit_kw=>0.0, :interconnection_limit_kw=>100000000.0, :blended_monthly_demand_charges_us_dollars_per_kw=>[], :wholesale_rate_above_site_load_us_dollars_per_kwh=>0.0, :urdb_label=>\"539fb919ec4f024bc1dc1e5f\"}, :Financial=>{:escalation_pct=>0.026, :offtaker_discount_pct=>0.081, :value_of_lost_load_us_dollars_per_kwh=>100.0, :analysis_years=>20, :microgrid_upgrade_cost_pct=>0.3, :offtaker_tax_pct=>0.26, :om_cost_escalation_pct=>0.025}}}}, {:Scenario=>{:timeout_seconds=>295, :time_steps_per_hour=>1, :Site=>{:Wind=>{:max_kw=>0}, :PV=>{:pbi_years=>1.0, :macrs_bonus_pct=>0.0, :max_kw=>1000000000.0, :pbi_max_us_dollars=>1000000000.0, :radius=>0.0, :state_ibi_pct=>0.0, :utility_rebate_max_us_dollars=>10000000000.0, :installed_cost_us_dollars_per_kw=>2000.0, :utility_ibi_max_us_dollars=>10000000000.0, :tilt=>10.0, :federal_rebate_us_dollars_per_kw=>0.0, :gcr=>0.4, :pbi_system_max_kw=>1000000000.0, :utility_ibi_pct=>0.0, :state_ibi_max_us_dollars=>10000000000.0, :state_rebate_us_dollars_per_kw=>0.0, :macrs_option_years=>5, :state_rebate_max_us_dollars=>10000000000.0, :dc_ac_ratio=>1.1, :federal_itc_pct=>0.3, :pbi_us_dollars_per_kwh=>0.0, :module_type=>0, :array_type=>1, :existing_kw=>0.0, :om_cost_us_dollars_per_kw=>16.0, :utility_rebate_us_dollars_per_kw=>0.0, :min_kw=>0.0, :losses=>0.14, :macrs_itc_reduction=>0.5, :degradation_pct=>0.005, :inv_eff=>0.96, :azimuth=>180.0}, :Generator=>{:pbi_years=>0.0, :macrs_bonus_pct=>0.0, :om_cost_us_dollars_per_kwh=>20.0, :max_kw=>1000000000.0, :pbi_max_us_dollars=>0.0, :state_ibi_pct=>0.0, :fuel_intercept_gal_per_hr=>0.0125, :generator_only_runs_during_grid_outage=>true, :state_rebate_us_dollars_per_kw=>0.0, :installed_cost_us_dollars_per_kw=>2500.0, :utility_ibi_max_us_dollars=>0.0, :fuel_avail_gal=>0.0, :min_turn_down_pct=>0.3, :pbi_system_max_kw=>0.0, :utility_ibi_pct=>0.0, :state_ibi_max_us_dollars=>0.0, :diesel_fuel_cost_us_dollars_per_gallon=>20.0, :fuel_slope_gal_per_kwh=>0.068, :utility_rebate_max_us_dollars=>0.0, :macrs_option_years=>0, :state_rebate_max_us_dollars=>0.0, :federal_itc_pct=>0.0, :existing_kw=>0.0, :pbi_us_dollars_per_kwh=>0.0, :om_cost_us_dollars_per_kw=>50.0, :utility_rebate_us_dollars_per_kw=>0.0, :min_kw=>0.0, :macrs_itc_reduction=>0.0, :federal_rebate_us_dollars_per_kw=>0.0, :generator_sells_energy_back_to_grid=>false}, :LoadProfile=>{:critical_loads_kw_is_net=>false, :critical_load_pct=>0, :loads_kw_is_net=>true}, :roof_squarefeet=>nil, :Storage=>{:max_kwh=>0.0, :rectifier_efficiency_pct=>0.96, :total_itc_pct=>0.0, :min_kw=>0.0, :max_kw=>0.0, :replace_cost_us_dollars_per_kw=>460.0, :replace_cost_us_dollars_per_kwh=>230.0, :min_kwh=>0.0, :installed_cost_us_dollars_per_kw=>1000.0, :total_rebate_us_dollars_per_kw=>0, :installed_cost_us_dollars_per_kwh=>500.0, :inverter_efficiency_pct=>0.96, :macrs_itc_reduction=>0.5, :canGridCharge=>true, :macrs_bonus_pct=>0.0, :battery_replacement_year=>10, :macrs_option_years=>7, :internal_efficiency_pct=>0.975, :soc_min_pct=>0.2, :soc_init_pct=>0.5, :inverter_replacement_year=>10}, :ElectricTariff=>{:add_blended_rates_to_urdb_rate=>false, :wholesale_rate_us_dollars_per_kwh=>0.0, :net_metering_limit_kw=>0.0, :interconnection_limit_kw=>100000000.0, :blended_monthly_demand_charges_us_dollars_per_kw=>[], :wholesale_rate_above_site_load_us_dollars_per_kwh=>0.0, :urdb_label=>\"539fb919ec4f024bc1dc1e5f\"}, :Financial=>{:escalation_pct=>0.026, :offtaker_discount_pct=>0.081, :value_of_lost_load_us_dollars_per_kwh=>100.0, :analysis_years=>20, :microgrid_upgrade_cost_pct=>0.3, :offtaker_tax_pct=>0.26, :om_cost_escalation_pct=>0.025}}}}, {:Scenario=>{:timeout_seconds=>295, :time_steps_per_hour=>1, :Site=>{:Wind=>{:max_kw=>0}, :PV=>{:pbi_years=>1.0, :macrs_bonus_pct=>0.0, :max_kw=>1000000000.0, :pbi_max_us_dollars=>1000000000.0, :radius=>0.0, :state_ibi_pct=>0.0, :utility_rebate_max_us_dollars=>10000000000.0, :installed_cost_us_dollars_per_kw=>2000.0, :utility_ibi_max_us_dollars=>10000000000.0, :tilt=>10.0, :federal_rebate_us_dollars_per_kw=>0.0, :gcr=>0.4, :pbi_system_max_kw=>1000000000.0, :utility_ibi_pct=>0.0, :state_ibi_max_us_dollars=>10000000000.0, :state_rebate_us_dollars_per_kw=>0.0, :macrs_option_years=>5, :state_rebate_max_us_dollars=>10000000000.0, :dc_ac_ratio=>1.1, :federal_itc_pct=>0.3, :pbi_us_dollars_per_kwh=>0.0, :module_type=>0, :array_type=>1, :existing_kw=>0.0, :om_cost_us_dollars_per_kw=>16.0, :utility_rebate_us_dollars_per_kw=>0.0, :min_kw=>0.0, :losses=>0.14, :macrs_itc_reduction=>0.5, :degradation_pct=>0.005, :inv_eff=>0.96, :azimuth=>180.0}, :Generator=>{:pbi_years=>0.0, :macrs_bonus_pct=>0.0, :om_cost_us_dollars_per_kwh=>20.0, :max_kw=>1000000000.0, :pbi_max_us_dollars=>0.0, :state_ibi_pct=>0.0, :fuel_intercept_gal_per_hr=>0.0125, :generator_only_runs_during_grid_outage=>true, :state_rebate_us_dollars_per_kw=>0.0, :installed_cost_us_dollars_per_kw=>2500.0, :utility_ibi_max_us_dollars=>0.0, :fuel_avail_gal=>0.0, :min_turn_down_pct=>0.3, :pbi_system_max_kw=>0.0, :utility_ibi_pct=>0.0, :state_ibi_max_us_dollars=>0.0, :diesel_fuel_cost_us_dollars_per_gallon=>20.0, :fuel_slope_gal_per_kwh=>0.068, :utility_rebate_max_us_dollars=>0.0, :macrs_option_years=>0, :state_rebate_max_us_dollars=>0.0, :federal_itc_pct=>0.0, :existing_kw=>0.0, :pbi_us_dollars_per_kwh=>0.0, :om_cost_us_dollars_per_kw=>50.0, :utility_rebate_us_dollars_per_kw=>0.0, :min_kw=>0.0, :macrs_itc_reduction=>0.0, :federal_rebate_us_dollars_per_kw=>0.0, :generator_sells_energy_back_to_grid=>false}, :LoadProfile=>{:critical_loads_kw_is_net=>false, :critical_load_pct=>0, :loads_kw_is_net=>true}, :roof_squarefeet=>nil, :Storage=>{:max_kwh=>0.0, :rectifier_efficiency_pct=>0.96, :total_itc_pct=>0.0, :min_kw=>0.0, :max_kw=>0.0, :replace_cost_us_dollars_per_kw=>460.0, :replace_cost_us_dollars_per_kwh=>230.0, :min_kwh=>0.0, :installed_cost_us_dollars_per_kw=>1000.0, :total_rebate_us_dollars_per_kw=>0, :installed_cost_us_dollars_per_kwh=>500.0, :inverter_efficiency_pct=>0.96, :macrs_itc_reduction=>0.5, :canGridCharge=>true, :macrs_bonus_pct=>0.0, :battery_replacement_year=>10, :macrs_option_years=>7, :internal_efficiency_pct=>0.975, :soc_min_pct=>0.2, :soc_init_pct=>0.5, :inverter_replacement_year=>10}, :ElectricTariff=>{:add_blended_rates_to_urdb_rate=>false, :wholesale_rate_us_dollars_per_kwh=>0.0, :net_metering_limit_kw=>0.0, :interconnection_limit_kw=>100000000.0, :blended_monthly_demand_charges_us_dollars_per_kw=>[], :wholesale_rate_above_site_load_us_dollars_per_kwh=>0.0, :urdb_label=>\"539fb919ec4f024bc1dc1e5f\"}, :Financial=>{:escalation_pct=>0.026, :offtaker_discount_pct=>0.081, :value_of_lost_load_us_dollars_per_kwh=>100.0, :analysis_years=>20, :microgrid_upgrade_cost_pct=>0.3, :offtaker_tax_pct=>0.26, :om_cost_escalation_pct=>0.025}}}}, {:Scenario=>{:timeout_seconds=>295, :time_steps_per_hour=>1, :Site=>{:Wind=>{:max_kw=>0}, :PV=>{:pbi_years=>1.0, :macrs_bonus_pct=>0.0, :max_kw=>1000000000.0, :pbi_max_us_dollars=>1000000000.0, :radius=>0.0, :state_ibi_pct=>0.0, :utility_rebate_max_us_dollars=>10000000000.0, :installed_cost_us_dollars_per_kw=>2000.0, :utility_ibi_max_us_dollars=>10000000000.0, :tilt=>10.0, :federal_rebate_us_dollars_per_kw=>0.0, :gcr=>0.4, :pbi_system_max_kw=>1000000000.0, :utility_ibi_pct=>0.0, :state_ibi_max_us_dollars=>10000000000.0, :state_rebate_us_dollars_per_kw=>0.0, :macrs_option_years=>5, :state_rebate_max_us_dollars=>10000000000.0, :dc_ac_ratio=>1.1, :federal_itc_pct=>0.3, :pbi_us_dollars_per_kwh=>0.0, :module_type=>0, :array_type=>1, :existing_kw=>0.0, :om_cost_us_dollars_per_kw=>16.0, :utility_rebate_us_dollars_per_kw=>0.0, :min_kw=>0.0, :losses=>0.14, :macrs_itc_reduction=>0.5, :degradation_pct=>0.005, :inv_eff=>0.96, :azimuth=>180.0}, :Generator=>{:pbi_years=>0.0, :macrs_bonus_pct=>0.0, :om_cost_us_dollars_per_kwh=>20.0, :max_kw=>1000000000.0, :pbi_max_us_dollars=>0.0, :state_ibi_pct=>0.0, :fuel_intercept_gal_per_hr=>0.0125, :generator_only_runs_during_grid_outage=>true, :state_rebate_us_dollars_per_kw=>0.0, :installed_cost_us_dollars_per_kw=>2500.0, :utility_ibi_max_us_dollars=>0.0, :fuel_avail_gal=>0.0, :min_turn_down_pct=>0.3, :pbi_system_max_kw=>0.0, :utility_ibi_pct=>0.0, :state_ibi_max_us_dollars=>0.0, :diesel_fuel_cost_us_dollars_per_gallon=>20.0, :fuel_slope_gal_per_kwh=>0.068, :utility_rebate_max_us_dollars=>0.0, :macrs_option_years=>0, :state_rebate_max_us_dollars=>0.0, :federal_itc_pct=>0.0, :existing_kw=>0.0, :pbi_us_dollars_per_kwh=>0.0, :om_cost_us_dollars_per_kw=>50.0, :utility_rebate_us_dollars_per_kw=>0.0, :min_kw=>0.0, :macrs_itc_reduction=>0.0, :federal_rebate_us_dollars_per_kw=>0.0, :generator_sells_energy_back_to_grid=>false}, :LoadProfile=>{:critical_loads_kw_is_net=>false, :critical_load_pct=>0, :loads_kw_is_net=>true}, :roof_squarefeet=>nil, :Storage=>{:max_kwh=>0.0, :rectifier_efficiency_pct=>0.96, :total_itc_pct=>0.0, :min_kw=>0.0, :max_kw=>0.0, :replace_cost_us_dollars_per_kw=>460.0, :replace_cost_us_dollars_per_kwh=>230.0, :min_kwh=>0.0, :installed_cost_us_dollars_per_kw=>1000.0, :total_rebate_us_dollars_per_kw=>0, :installed_cost_us_dollars_per_kwh=>500.0, :inverter_efficiency_pct=>0.96, :macrs_itc_reduction=>0.5, :canGridCharge=>true, :macrs_bonus_pct=>0.0, :battery_replacement_year=>10, :macrs_option_years=>7, :internal_efficiency_pct=>0.975, :soc_min_pct=>0.2, :soc_init_pct=>0.5, :inverter_replacement_year=>10}, :ElectricTariff=>{:add_blended_rates_to_urdb_rate=>false, :wholesale_rate_us_dollars_per_kwh=>0.0, :net_metering_limit_kw=>0.0, :interconnection_limit_kw=>100000000.0, :blended_monthly_demand_charges_us_dollars_per_kw=>[], :wholesale_rate_above_site_load_us_dollars_per_kwh=>0.0, :urdb_label=>\"539fb919ec4f024bc1dc1e5f\"}, :Financial=>{:escalation_pct=>0.026, :offtaker_discount_pct=>0.081, :value_of_lost_load_us_dollars_per_kwh=>100.0, :analysis_years=>20, :microgrid_upgrade_cost_pct=>0.3, :offtaker_tax_pct=>0.26, :om_cost_escalation_pct=>0.025}}}}, {:Scenario=>{:timeout_seconds=>295, :time_steps_per_hour=>1, :Site=>{:Wind=>{:max_kw=>0}, :PV=>{:pbi_years=>1.0, :macrs_bonus_pct=>0.0, :max_kw=>1000000000.0, :pbi_max_us_dollars=>1000000000.0, :radius=>0.0, :state_ibi_pct=>0.0, :utility_rebate_max_us_dollars=>10000000000.0, :installed_cost_us_dollars_per_kw=>2000.0, :utility_ibi_max_us_dollars=>10000000000.0, :tilt=>10.0, :federal_rebate_us_dollars_per_kw=>0.0, :gcr=>0.4, :pbi_system_max_kw=>1000000000.0, :utility_ibi_pct=>0.0, :state_ibi_max_us_dollars=>10000000000.0, :state_rebate_us_dollars_per_kw=>0.0, :macrs_option_years=>5, :state_rebate_max_us_dollars=>10000000000.0, :dc_ac_ratio=>1.1, :federal_itc_pct=>0.3, :pbi_us_dollars_per_kwh=>0.0, :module_type=>0, :array_type=>1, :existing_kw=>0.0, :om_cost_us_dollars_per_kw=>16.0, :utility_rebate_us_dollars_per_kw=>0.0, :min_kw=>0.0, :losses=>0.14, :macrs_itc_reduction=>0.5, :degradation_pct=>0.005, :inv_eff=>0.96, :azimuth=>180.0}, :Generator=>{:pbi_years=>0.0, :macrs_bonus_pct=>0.0, :om_cost_us_dollars_per_kwh=>20.0, :max_kw=>1000000000.0, :pbi_max_us_dollars=>0.0, :state_ibi_pct=>0.0, :fuel_intercept_gal_per_hr=>0.0125, :generator_only_runs_during_grid_outage=>true, :state_rebate_us_dollars_per_kw=>0.0, :installed_cost_us_dollars_per_kw=>2500.0, :utility_ibi_max_us_dollars=>0.0, :fuel_avail_gal=>0.0, :min_turn_down_pct=>0.3, :pbi_system_max_kw=>0.0, :utility_ibi_pct=>0.0, :state_ibi_max_us_dollars=>0.0, :diesel_fuel_cost_us_dollars_per_gallon=>20.0, :fuel_slope_gal_per_kwh=>0.068, :utility_rebate_max_us_dollars=>0.0, :macrs_option_years=>0, :state_rebate_max_us_dollars=>0.0, :federal_itc_pct=>0.0, :existing_kw=>0.0, :pbi_us_dollars_per_kwh=>0.0, :om_cost_us_dollars_per_kw=>50.0, :utility_rebate_us_dollars_per_kw=>0.0, :min_kw=>0.0, :macrs_itc_reduction=>0.0, :federal_rebate_us_dollars_per_kw=>0.0, :generator_sells_energy_back_to_grid=>false}, :LoadProfile=>{:critical_loads_kw_is_net=>false, :critical_load_pct=>0, :loads_kw_is_net=>true}, :roof_squarefeet=>nil, :Storage=>{:max_kwh=>0.0, :rectifier_efficiency_pct=>0.96, :total_itc_pct=>0.0, :min_kw=>0.0, :max_kw=>0.0, :replace_cost_us_dollars_per_kw=>460.0, :replace_cost_us_dollars_per_kwh=>230.0, :min_kwh=>0.0, :installed_cost_us_dollars_per_kw=>1000.0, :total_rebate_us_dollars_per_kw=>0, :installed_cost_us_dollars_per_kwh=>500.0, :inverter_efficiency_pct=>0.96, :macrs_itc_reduction=>0.5, :canGridCharge=>true, :macrs_bonus_pct=>0.0, :battery_replacement_year=>10, :macrs_option_years=>7, :internal_efficiency_pct=>0.975, :soc_min_pct=>0.2, :soc_init_pct=>0.5, :inverter_replacement_year=>10}, :ElectricTariff=>{:add_blended_rates_to_urdb_rate=>false, :wholesale_rate_us_dollars_per_kwh=>0.0, :net_metering_limit_kw=>0.0, :interconnection_limit_kw=>100000000.0, :blended_monthly_demand_charges_us_dollars_per_kw=>[], :wholesale_rate_above_site_load_us_dollars_per_kwh=>0.0, :urdb_label=>\"539fb919ec4f024bc1dc1e5f\"}, :Financial=>{:escalation_pct=>0.026, :offtaker_discount_pct=>0.081, :value_of_lost_load_us_dollars_per_kwh=>100.0, :analysis_years=>20, :microgrid_upgrade_cost_pct=>0.3, :offtaker_tax_pct=>0.26, :om_cost_escalation_pct=>0.025}}}}, {:Scenario=>{:timeout_seconds=>295, :time_steps_per_hour=>1, :Site=>{:Wind=>{:max_kw=>0}, :PV=>{:pbi_years=>1.0, :macrs_bonus_pct=>0.0, :max_kw=>1000000000.0, :pbi_max_us_dollars=>1000000000.0, :radius=>0.0, :state_ibi_pct=>0.0, :utility_rebate_max_us_dollars=>10000000000.0, :installed_cost_us_dollars_per_kw=>2000.0, :utility_ibi_max_us_dollars=>10000000000.0, :tilt=>10.0, :federal_rebate_us_dollars_per_kw=>0.0, :gcr=>0.4, :pbi_system_max_kw=>1000000000.0, :utility_ibi_pct=>0.0, :state_ibi_max_us_dollars=>10000000000.0, :state_rebate_us_dollars_per_kw=>0.0, :macrs_option_years=>5, :state_rebate_max_us_dollars=>10000000000.0, :dc_ac_ratio=>1.1, :federal_itc_pct=>0.3, :pbi_us_dollars_per_kwh=>0.0, :module_type=>0, :array_type=>1, :existing_kw=>0.0, :om_cost_us_dollars_per_kw=>16.0, :utility_rebate_us_dollars_per_kw=>0.0, :min_kw=>0.0, :losses=>0.14, :macrs_itc_reduction=>0.5, :degradation_pct=>0.005, :inv_eff=>0.96, :azimuth=>180.0}, :Generator=>{:pbi_years=>0.0, :macrs_bonus_pct=>0.0, :om_cost_us_dollars_per_kwh=>20.0, :max_kw=>1000000000.0, :pbi_max_us_dollars=>0.0, :state_ibi_pct=>0.0, :fuel_intercept_gal_per_hr=>0.0125, :generator_only_runs_during_grid_outage=>true, :state_rebate_us_dollars_per_kw=>0.0, :installed_cost_us_dollars_per_kw=>2500.0, :utility_ibi_max_us_dollars=>0.0, :fuel_avail_gal=>0.0, :min_turn_down_pct=>0.3, :pbi_system_max_kw=>0.0, :utility_ibi_pct=>0.0, :state_ibi_max_us_dollars=>0.0, :diesel_fuel_cost_us_dollars_per_gallon=>20.0, :fuel_slope_gal_per_kwh=>0.068, :utility_rebate_max_us_dollars=>0.0, :macrs_option_years=>0, :state_rebate_max_us_dollars=>0.0, :federal_itc_pct=>0.0, :existing_kw=>0.0, :pbi_us_dollars_per_kwh=>0.0, :om_cost_us_dollars_per_kw=>50.0, :utility_rebate_us_dollars_per_kw=>0.0, :min_kw=>0.0, :macrs_itc_reduction=>0.0, :federal_rebate_us_dollars_per_kw=>0.0, :generator_sells_energy_back_to_grid=>false}, :LoadProfile=>{:critical_loads_kw_is_net=>false, :critical_load_pct=>0, :loads_kw_is_net=>true}, :roof_squarefeet=>nil, :Storage=>{:max_kwh=>0.0, :rectifier_efficiency_pct=>0.96, :total_itc_pct=>0.0, :min_kw=>0.0, :max_kw=>0.0, :replace_cost_us_dollars_per_kw=>460.0, :replace_cost_us_dollars_per_kwh=>230.0, :min_kwh=>0.0, :installed_cost_us_dollars_per_kw=>1000.0, :total_rebate_us_dollars_per_kw=>0, :installed_cost_us_dollars_per_kwh=>500.0, :inverter_efficiency_pct=>0.96, :macrs_itc_reduction=>0.5, :canGridCharge=>true, :macrs_bonus_pct=>0.0, :battery_replacement_year=>10, :macrs_option_years=>7, :internal_efficiency_pct=>0.975, :soc_min_pct=>0.2, :soc_init_pct=>0.5, :inverter_replacement_year=>10}, :ElectricTariff=>{:add_blended_rates_to_urdb_rate=>false, :wholesale_rate_us_dollars_per_kwh=>0.0, :net_metering_limit_kw=>0.0, :interconnection_limit_kw=>100000000.0, :blended_monthly_demand_charges_us_dollars_per_kw=>[], :wholesale_rate_above_site_load_us_dollars_per_kwh=>0.0, :urdb_label=>\"539fb919ec4f024bc1dc1e5f\"}, :Financial=>{:escalation_pct=>0.026, :offtaker_discount_pct=>0.081, :value_of_lost_load_us_dollars_per_kwh=>100.0, :analysis_years=>20, :microgrid_upgrade_cost_pct=>0.3, :offtaker_tax_pct=>0.26, :om_cost_escalation_pct=>0.025}}}}, {:Scenario=>{:timeout_seconds=>295, :time_steps_per_hour=>1, :Site=>{:Wind=>{:max_kw=>0}, :PV=>{:pbi_years=>1.0, :macrs_bonus_pct=>0.0, :max_kw=>1000000000.0, :pbi_max_us_dollars=>1000000000.0, :radius=>0.0, :state_ibi_pct=>0.0, :utility_rebate_max_us_dollars=>10000000000.0, :installed_cost_us_dollars_per_kw=>2000.0, :utility_ibi_max_us_dollars=>10000000000.0, :tilt=>10.0, :federal_rebate_us_dollars_per_kw=>0.0, :gcr=>0.4, :pbi_system_max_kw=>1000000000.0, :utility_ibi_pct=>0.0, :state_ibi_max_us_dollars=>10000000000.0, :state_rebate_us_dollars_per_kw=>0.0, :macrs_option_years=>5, :state_rebate_max_us_dollars=>10000000000.0, :dc_ac_ratio=>1.1, :federal_itc_pct=>0.3, :pbi_us_dollars_per_kwh=>0.0, :module_type=>0, :array_type=>1, :existing_kw=>0.0, :om_cost_us_dollars_per_kw=>16.0, :utility_rebate_us_dollars_per_kw=>0.0, :min_kw=>0.0, :losses=>0.14, :macrs_itc_reduction=>0.5, :degradation_pct=>0.005, :inv_eff=>0.96, :azimuth=>180.0}, :Generator=>{:pbi_years=>0.0, :macrs_bonus_pct=>0.0, :om_cost_us_dollars_per_kwh=>20.0, :max_kw=>1000000000.0, :pbi_max_us_dollars=>0.0, :state_ibi_pct=>0.0, :fuel_intercept_gal_per_hr=>0.0125, :generator_only_runs_during_grid_outage=>true, :state_rebate_us_dollars_per_kw=>0.0, :installed_cost_us_dollars_per_kw=>2500.0, :utility_ibi_max_us_dollars=>0.0, :fuel_avail_gal=>0.0, :min_turn_down_pct=>0.3, :pbi_system_max_kw=>0.0, :utility_ibi_pct=>0.0, :state_ibi_max_us_dollars=>0.0, :diesel_fuel_cost_us_dollars_per_gallon=>20.0, :fuel_slope_gal_per_kwh=>0.068, :utility_rebate_max_us_dollars=>0.0, :macrs_option_years=>0, :state_rebate_max_us_dollars=>0.0, :federal_itc_pct=>0.0, :existing_kw=>0.0, :pbi_us_dollars_per_kwh=>0.0, :om_cost_us_dollars_per_kw=>50.0, :utility_rebate_us_dollars_per_kw=>0.0, :min_kw=>0.0, :macrs_itc_reduction=>0.0, :federal_rebate_us_dollars_per_kw=>0.0, :generator_sells_energy_back_to_grid=>false}, :LoadProfile=>{:critical_loads_kw_is_net=>false, :critical_load_pct=>0, :loads_kw_is_net=>true}, :roof_squarefeet=>nil, :Storage=>{:max_kwh=>0.0, :rectifier_efficiency_pct=>0.96, :total_itc_pct=>0.0, :min_kw=>0.0, :max_kw=>0.0, :replace_cost_us_dollars_per_kw=>460.0, :replace_cost_us_dollars_per_kwh=>230.0, :min_kwh=>0.0, :installed_cost_us_dollars_per_kw=>1000.0, :total_rebate_us_dollars_per_kw=>0, :installed_cost_us_dollars_per_kwh=>500.0, :inverter_efficiency_pct=>0.96, :macrs_itc_reduction=>0.5, :canGridCharge=>true, :macrs_bonus_pct=>0.0, :battery_replacement_year=>10, :macrs_option_years=>7, :internal_efficiency_pct=>0.975, :soc_min_pct=>0.2, :soc_init_pct=>0.5, :inverter_replacement_year=>10}, :ElectricTariff=>{:add_blended_rates_to_urdb_rate=>false, :wholesale_rate_us_dollars_per_kwh=>0.0, :net_metering_limit_kw=>0.0, :interconnection_limit_kw=>100000000.0, :blended_monthly_demand_charges_us_dollars_per_kw=>[], :wholesale_rate_above_site_load_us_dollars_per_kwh=>0.0, :urdb_label=>\"539fb919ec4f024bc1dc1e5f\"}, :Financial=>{:escalation_pct=>0.026, :offtaker_discount_pct=>0.081, :value_of_lost_load_us_dollars_per_kwh=>100.0, :analysis_years=>20, :microgrid_upgrade_cost_pct=>0.3, :offtaker_tax_pct=>0.26, :om_cost_escalation_pct=>0.025}}}}, {:Scenario=>{:timeout_seconds=>295, :time_steps_per_hour=>1, :Site=>{:Wind=>{:max_kw=>0}, :PV=>{:pbi_years=>1.0, :macrs_bonus_pct=>0.0, :max_kw=>1000000000.0, :pbi_max_us_dollars=>1000000000.0, :radius=>0.0, :state_ibi_pct=>0.0, :utility_rebate_max_us_dollars=>10000000000.0, :installed_cost_us_dollars_per_kw=>2000.0, :utility_ibi_max_us_dollars=>10000000000.0, :tilt=>10.0, :federal_rebate_us_dollars_per_kw=>0.0, :gcr=>0.4, :pbi_system_max_kw=>1000000000.0, :utility_ibi_pct=>0.0, :state_ibi_max_us_dollars=>10000000000.0, :state_rebate_us_dollars_per_kw=>0.0, :macrs_option_years=>5, :state_rebate_max_us_dollars=>10000000000.0, :dc_ac_ratio=>1.1, :federal_itc_pct=>0.3, :pbi_us_dollars_per_kwh=>0.0, :module_type=>0, :array_type=>1, :existing_kw=>0.0, :om_cost_us_dollars_per_kw=>16.0, :utility_rebate_us_dollars_per_kw=>0.0, :min_kw=>0.0, :losses=>0.14, :macrs_itc_reduction=>0.5, :degradation_pct=>0.005, :inv_eff=>0.96, :azimuth=>180.0}, :Generator=>{:pbi_years=>0.0, :macrs_bonus_pct=>0.0, :om_cost_us_dollars_per_kwh=>20.0, :max_kw=>1000000000.0, :pbi_max_us_dollars=>0.0, :state_ibi_pct=>0.0, :fuel_intercept_gal_per_hr=>0.0125, :generator_only_runs_during_grid_outage=>true, :state_rebate_us_dollars_per_kw=>0.0, :installed_cost_us_dollars_per_kw=>2500.0, :utility_ibi_max_us_dollars=>0.0, :fuel_avail_gal=>0.0, :min_turn_down_pct=>0.3, :pbi_system_max_kw=>0.0, :utility_ibi_pct=>0.0, :state_ibi_max_us_dollars=>0.0, :diesel_fuel_cost_us_dollars_per_gallon=>20.0, :fuel_slope_gal_per_kwh=>0.068, :utility_rebate_max_us_dollars=>0.0, :macrs_option_years=>0, :state_rebate_max_us_dollars=>0.0, :federal_itc_pct=>0.0, :existing_kw=>0.0, :pbi_us_dollars_per_kwh=>0.0, :om_cost_us_dollars_per_kw=>50.0, :utility_rebate_us_dollars_per_kw=>0.0, :min_kw=>0.0, :macrs_itc_reduction=>0.0, :federal_rebate_us_dollars_per_kw=>0.0, :generator_sells_energy_back_to_grid=>false}, :LoadProfile=>{:critical_loads_kw_is_net=>false, :critical_load_pct=>0, :loads_kw_is_net=>true}, :roof_squarefeet=>nil, :Storage=>{:max_kwh=>0.0, :rectifier_efficiency_pct=>0.96, :total_itc_pct=>0.0, :min_kw=>0.0, :max_kw=>0.0, :replace_cost_us_dollars_per_kw=>460.0, :replace_cost_us_dollars_per_kwh=>230.0, :min_kwh=>0.0, :installed_cost_us_dollars_per_kw=>1000.0, :total_rebate_us_dollars_per_kw=>0, :installed_cost_us_dollars_per_kwh=>500.0, :inverter_efficiency_pct=>0.96, :macrs_itc_reduction=>0.5, :canGridCharge=>true, :macrs_bonus_pct=>0.0, :battery_replacement_year=>10, :macrs_option_years=>7, :internal_efficiency_pct=>0.975, :soc_min_pct=>0.2, :soc_init_pct=>0.5, :inverter_replacement_year=>10}, :ElectricTariff=>{:add_blended_rates_to_urdb_rate=>false, :wholesale_rate_us_dollars_per_kwh=>0.0, :net_metering_limit_kw=>0.0, :interconnection_limit_kw=>100000000.0, :blended_monthly_demand_charges_us_dollars_per_kw=>[], :wholesale_rate_above_site_load_us_dollars_per_kwh=>0.0, :urdb_label=>\"539fb919ec4f024bc1dc1e5f\"}, :Financial=>{:escalation_pct=>0.026, :offtaker_discount_pct=>0.081, :value_of_lost_load_us_dollars_per_kwh=>100.0, :analysis_years=>20, :microgrid_upgrade_cost_pct=>0.3, :offtaker_tax_pct=>0.26, :om_cost_escalation_pct=>0.025}}}}, {:Scenario=>{:timeout_seconds=>295, :time_steps_per_hour=>1, :Site=>{:Wind=>{:max_kw=>0}, :PV=>{:pbi_years=>1.0, :macrs_bonus_pct=>0.0, :max_kw=>1000000000.0, :pbi_max_us_dollars=>1000000000.0, :radius=>0.0, :state_ibi_pct=>0.0, :utility_rebate_max_us_dollars=>10000000000.0, :installed_cost_us_dollars_per_kw=>2000.0, :utility_ibi_max_us_dollars=>10000000000.0, :tilt=>10.0, :federal_rebate_us_dollars_per_kw=>0.0, :gcr=>0.4, :pbi_system_max_kw=>1000000000.0, :utility_ibi_pct=>0.0, :state_ibi_max_us_dollars=>10000000000.0, :state_rebate_us_dollars_per_kw=>0.0, :macrs_option_years=>5, :state_rebate_max_us_dollars=>10000000000.0, :dc_ac_ratio=>1.1, :federal_itc_pct=>0.3, :pbi_us_dollars_per_kwh=>0.0, :module_type=>0, :array_type=>1, :existing_kw=>0.0, :om_cost_us_dollars_per_kw=>16.0, :utility_rebate_us_dollars_per_kw=>0.0, :min_kw=>0.0, :losses=>0.14, :macrs_itc_reduction=>0.5, :degradation_pct=>0.005, :inv_eff=>0.96, :azimuth=>180.0}, :Generator=>{:pbi_years=>0.0, :macrs_bonus_pct=>0.0, :om_cost_us_dollars_per_kwh=>20.0, :max_kw=>1000000000.0, :pbi_max_us_dollars=>0.0, :state_ibi_pct=>0.0, :fuel_intercept_gal_per_hr=>0.0125, :generator_only_runs_during_grid_outage=>true, :state_rebate_us_dollars_per_kw=>0.0, :installed_cost_us_dollars_per_kw=>2500.0, :utility_ibi_max_us_dollars=>0.0, :fuel_avail_gal=>0.0, :min_turn_down_pct=>0.3, :pbi_system_max_kw=>0.0, :utility_ibi_pct=>0.0, :state_ibi_max_us_dollars=>0.0, :diesel_fuel_cost_us_dollars_per_gallon=>20.0, :fuel_slope_gal_per_kwh=>0.068, :utility_rebate_max_us_dollars=>0.0, :macrs_option_years=>0, :state_rebate_max_us_dollars=>0.0, :federal_itc_pct=>0.0, :existing_kw=>0.0, :pbi_us_dollars_per_kwh=>0.0, :om_cost_us_dollars_per_kw=>50.0, :utility_rebate_us_dollars_per_kw=>0.0, :min_kw=>0.0, :macrs_itc_reduction=>0.0, :federal_rebate_us_dollars_per_kw=>0.0, :generator_sells_energy_back_to_grid=>false}, :LoadProfile=>{:critical_loads_kw_is_net=>false, :critical_load_pct=>0, :loads_kw_is_net=>true}, :roof_squarefeet=>nil, :Storage=>{:max_kwh=>0.0, :rectifier_efficiency_pct=>0.96, :total_itc_pct=>0.0, :min_kw=>0.0, :max_kw=>0.0, :replace_cost_us_dollars_per_kw=>460.0, :replace_cost_us_dollars_per_kwh=>230.0, :min_kwh=>0.0, :installed_cost_us_dollars_per_kw=>1000.0, :total_rebate_us_dollars_per_kw=>0, :installed_cost_us_dollars_per_kwh=>500.0, :inverter_efficiency_pct=>0.96, :macrs_itc_reduction=>0.5, :canGridCharge=>true, :macrs_bonus_pct=>0.0, :battery_replacement_year=>10, :macrs_option_years=>7, :internal_efficiency_pct=>0.975, :soc_min_pct=>0.2, :soc_init_pct=>0.5, :inverter_replacement_year=>10}, :ElectricTariff=>{:add_blended_rates_to_urdb_rate=>false, :wholesale_rate_us_dollars_per_kwh=>0.0, :net_metering_limit_kw=>0.0, :interconnection_limit_kw=>100000000.0, :blended_monthly_demand_charges_us_dollars_per_kw=>[], :wholesale_rate_above_site_load_us_dollars_per_kwh=>0.0, :urdb_label=>\"539fb919ec4f024bc1dc1e5f\"}, :Financial=>{:escalation_pct=>0.026, :offtaker_discount_pct=>0.081, :value_of_lost_load_us_dollars_per_kwh=>100.0, :analysis_years=>20, :microgrid_upgrade_cost_pct=>0.3, :offtaker_tax_pct=>0.26, :om_cost_escalation_pct=>0.025}}}}, {:Scenario=>{:timeout_seconds=>295, :time_steps_per_hour=>1, :Site=>{:Wind=>{:max_kw=>0}, :PV=>{:pbi_years=>1.0, :macrs_bonus_pct=>0.0, :max_kw=>1000000000.0, :pbi_max_us_dollars=>1000000000.0, :radius=>0.0, :state_ibi_pct=>0.0, :utility_rebate_max_us_dollars=>10000000000.0, :installed_cost_us_dollars_per_kw=>2000.0, :utility_ibi_max_us_dollars=>10000000000.0, :tilt=>10.0, :federal_rebate_us_dollars_per_kw=>0.0, :gcr=>0.4, :pbi_system_max_kw=>1000000000.0, :utility_ibi_pct=>0.0, :state_ibi_max_us_dollars=>10000000000.0, :state_rebate_us_dollars_per_kw=>0.0, :macrs_option_years=>5, :state_rebate_max_us_dollars=>10000000000.0, :dc_ac_ratio=>1.1, :federal_itc_pct=>0.3, :pbi_us_dollars_per_kwh=>0.0, :module_type=>0, :array_type=>1, :existing_kw=>0.0, :om_cost_us_dollars_per_kw=>16.0, :utility_rebate_us_dollars_per_kw=>0.0, :min_kw=>0.0, :losses=>0.14, :macrs_itc_reduction=>0.5, :degradation_pct=>0.005, :inv_eff=>0.96, :azimuth=>180.0}, :Generator=>{:pbi_years=>0.0, :macrs_bonus_pct=>0.0, :om_cost_us_dollars_per_kwh=>20.0, :max_kw=>1000000000.0, :pbi_max_us_dollars=>0.0, :state_ibi_pct=>0.0, :fuel_intercept_gal_per_hr=>0.0125, :generator_only_runs_during_grid_outage=>true, :state_rebate_us_dollars_per_kw=>0.0, :installed_cost_us_dollars_per_kw=>2500.0, :utility_ibi_max_us_dollars=>0.0, :fuel_avail_gal=>0.0, :min_turn_down_pct=>0.3, :pbi_system_max_kw=>0.0, :utility_ibi_pct=>0.0, :state_ibi_max_us_dollars=>0.0, :diesel_fuel_cost_us_dollars_per_gallon=>20.0, :fuel_slope_gal_per_kwh=>0.068, :utility_rebate_max_us_dollars=>0.0, :macrs_option_years=>0, :state_rebate_max_us_dollars=>0.0, :federal_itc_pct=>0.0, :existing_kw=>0.0, :pbi_us_dollars_per_kwh=>0.0, :om_cost_us_dollars_per_kw=>50.0, :utility_rebate_us_dollars_per_kw=>0.0, :min_kw=>0.0, :macrs_itc_reduction=>0.0, :federal_rebate_us_dollars_per_kw=>0.0, :generator_sells_energy_back_to_grid=>false}, :LoadProfile=>{:critical_loads_kw_is_net=>false, :critical_load_pct=>0, :loads_kw_is_net=>true}, :roof_squarefeet=>nil, :Storage=>{:max_kwh=>0.0, :rectifier_efficiency_pct=>0.96, :total_itc_pct=>0.0, :min_kw=>0.0, :max_kw=>0.0, :replace_cost_us_dollars_per_kw=>460.0, :replace_cost_us_dollars_per_kwh=>230.0, :min_kwh=>0.0, :installed_cost_us_dollars_per_kw=>1000.0, :total_rebate_us_dollars_per_kw=>0, :installed_cost_us_dollars_per_kwh=>500.0, :inverter_efficiency_pct=>0.96, :macrs_itc_reduction=>0.5, :canGridCharge=>true, :macrs_bonus_pct=>0.0, :battery_replacement_year=>10, :macrs_option_years=>7, :internal_efficiency_pct=>0.975, :soc_min_pct=>0.2, :soc_init_pct=>0.5, :inverter_replacement_year=>10}, :ElectricTariff=>{:add_blended_rates_to_urdb_rate=>false, :wholesale_rate_us_dollars_per_kwh=>0.0, :net_metering_limit_kw=>0.0, :interconnection_limit_kw=>100000000.0, :blended_monthly_demand_charges_us_dollars_per_kw=>[], :wholesale_rate_above_site_load_us_dollars_per_kwh=>0.0, :urdb_label=>\"539fb919ec4f024bc1dc1e5f\"}, :Financial=>{:escalation_pct=>0.026, :offtaker_discount_pct=>0.081, :value_of_lost_load_us_dollars_per_kwh=>100.0, :analysis_years=>20, :microgrid_upgrade_cost_pct=>0.3, :offtaker_tax_pct=>0.26, :om_cost_escalation_pct=>0.025}}}}, {:Scenario=>{:timeout_seconds=>295, :time_steps_per_hour=>1, :Site=>{:Wind=>{:max_kw=>0}, :PV=>{:pbi_years=>1.0, :macrs_bonus_pct=>0.0, :max_kw=>1000000000.0, :pbi_max_us_dollars=>1000000000.0, :radius=>0.0, :state_ibi_pct=>0.0, :utility_rebate_max_us_dollars=>10000000000.0, :installed_cost_us_dollars_per_kw=>2000.0, :utility_ibi_max_us_dollars=>10000000000.0, :tilt=>10.0, :federal_rebate_us_dollars_per_kw=>0.0, :gcr=>0.4, :pbi_system_max_kw=>1000000000.0, :utility_ibi_pct=>0.0, :state_ibi_max_us_dollars=>10000000000.0, :state_rebate_us_dollars_per_kw=>0.0, :macrs_option_years=>5, :state_rebate_max_us_dollars=>10000000000.0, :dc_ac_ratio=>1.1, :federal_itc_pct=>0.3, :pbi_us_dollars_per_kwh=>0.0, :module_type=>0, :array_type=>1, :existing_kw=>0.0, :om_cost_us_dollars_per_kw=>16.0, :utility_rebate_us_dollars_per_kw=>0.0, :min_kw=>0.0, :losses=>0.14, :macrs_itc_reduction=>0.5, :degradation_pct=>0.005, :inv_eff=>0.96, :azimuth=>180.0}, :Generator=>{:pbi_years=>0.0, :macrs_bonus_pct=>0.0, :om_cost_us_dollars_per_kwh=>20.0, :max_kw=>1000000000.0, :pbi_max_us_dollars=>0.0, :state_ibi_pct=>0.0, :fuel_intercept_gal_per_hr=>0.0125, :generator_only_runs_during_grid_outage=>true, :state_rebate_us_dollars_per_kw=>0.0, :installed_cost_us_dollars_per_kw=>2500.0, :utility_ibi_max_us_dollars=>0.0, :fuel_avail_gal=>0.0, :min_turn_down_pct=>0.3, :pbi_system_max_kw=>0.0, :utility_ibi_pct=>0.0, :state_ibi_max_us_dollars=>0.0, :diesel_fuel_cost_us_dollars_per_gallon=>20.0, :fuel_slope_gal_per_kwh=>0.068, :utility_rebate_max_us_dollars=>0.0, :macrs_option_years=>0, :state_rebate_max_us_dollars=>0.0, :federal_itc_pct=>0.0, :existing_kw=>0.0, :pbi_us_dollars_per_kwh=>0.0, :om_cost_us_dollars_per_kw=>50.0, :utility_rebate_us_dollars_per_kw=>0.0, :min_kw=>0.0, :macrs_itc_reduction=>0.0, :federal_rebate_us_dollars_per_kw=>0.0, :generator_sells_energy_back_to_grid=>false}, :LoadProfile=>{:critical_loads_kw_is_net=>false, :critical_load_pct=>0, :loads_kw_is_net=>true}, :roof_squarefeet=>nil, :Storage=>{:max_kwh=>0.0, :rectifier_efficiency_pct=>0.96, :total_itc_pct=>0.0, :min_kw=>0.0, :max_kw=>0.0, :replace_cost_us_dollars_per_kw=>460.0, :replace_cost_us_dollars_per_kwh=>230.0, :min_kwh=>0.0, :installed_cost_us_dollars_per_kw=>1000.0, :total_rebate_us_dollars_per_kw=>0, :installed_cost_us_dollars_per_kwh=>500.0, :inverter_efficiency_pct=>0.96, :macrs_itc_reduction=>0.5, :canGridCharge=>true, :macrs_bonus_pct=>0.0, :battery_replacement_year=>10, :macrs_option_years=>7, :internal_efficiency_pct=>0.975, :soc_min_pct=>0.2, :soc_init_pct=>0.5, :inverter_replacement_year=>10}, :ElectricTariff=>{:add_blended_rates_to_urdb_rate=>false, :wholesale_rate_us_dollars_per_kwh=>0.0, :net_metering_limit_kw=>0.0, :interconnection_limit_kw=>100000000.0, :blended_monthly_demand_charges_us_dollars_per_kw=>[], :wholesale_rate_above_site_load_us_dollars_per_kwh=>0.0, :urdb_label=>\"539fb919ec4f024bc1dc1e5f\"}, :Financial=>{:escalation_pct=>0.026, :offtaker_discount_pct=>0.081, :value_of_lost_load_us_dollars_per_kwh=>100.0, :analysis_years=>20, :microgrid_upgrade_cost_pct=>0.3, :offtaker_tax_pct=>0.26, :om_cost_escalation_pct=>0.025}}}}, {:Scenario=>{:timeout_seconds=>295, :time_steps_per_hour=>1, :Site=>{:Wind=>{:max_kw=>0}, :PV=>{:pbi_years=>1.0, :macrs_bonus_pct=>0.0, :max_kw=>1000000000.0, :pbi_max_us_dollars=>1000000000.0, :radius=>0.0, :state_ibi_pct=>0.0, :utility_rebate_max_us_dollars=>10000000000.0, :installed_cost_us_dollars_per_kw=>2000.0, :utility_ibi_max_us_dollars=>10000000000.0, :tilt=>10.0, :federal_rebate_us_dollars_per_kw=>0.0, :gcr=>0.4, :pbi_system_max_kw=>1000000000.0, :utility_ibi_pct=>0.0, :state_ibi_max_us_dollars=>10000000000.0, :state_rebate_us_dollars_per_kw=>0.0, :macrs_option_years=>5, :state_rebate_max_us_dollars=>10000000000.0, :dc_ac_ratio=>1.1, :federal_itc_pct=>0.3, :pbi_us_dollars_per_kwh=>0.0, :module_type=>0, :array_type=>1, :existing_kw=>0.0, :om_cost_us_dollars_per_kw=>16.0, :utility_rebate_us_dollars_per_kw=>0.0, :min_kw=>0.0, :losses=>0.14, :macrs_itc_reduction=>0.5, :degradation_pct=>0.005, :inv_eff=>0.96, :azimuth=>180.0}, :Generator=>{:pbi_years=>0.0, :macrs_bonus_pct=>0.0, :om_cost_us_dollars_per_kwh=>20.0, :max_kw=>1000000000.0, :pbi_max_us_dollars=>0.0, :state_ibi_pct=>0.0, :fuel_intercept_gal_per_hr=>0.0125, :generator_only_runs_during_grid_outage=>true, :state_rebate_us_dollars_per_kw=>0.0, :installed_cost_us_dollars_per_kw=>2500.0, :utility_ibi_max_us_dollars=>0.0, :fuel_avail_gal=>0.0, :min_turn_down_pct=>0.3, :pbi_system_max_kw=>0.0, :utility_ibi_pct=>0.0, :state_ibi_max_us_dollars=>0.0, :diesel_fuel_cost_us_dollars_per_gallon=>20.0, :fuel_slope_gal_per_kwh=>0.068, :utility_rebate_max_us_dollars=>0.0, :macrs_option_years=>0, :state_rebate_max_us_dollars=>0.0, :federal_itc_pct=>0.0, :existing_kw=>0.0, :pbi_us_dollars_per_kwh=>0.0, :om_cost_us_dollars_per_kw=>50.0, :utility_rebate_us_dollars_per_kw=>0.0, :min_kw=>0.0, :macrs_itc_reduction=>0.0, :federal_rebate_us_dollars_per_kw=>0.0, :generator_sells_energy_back_to_grid=>false}, :LoadProfile=>{:critical_loads_kw_is_net=>false, :critical_load_pct=>0, :loads_kw_is_net=>true}, :roof_squarefeet=>nil, :Storage=>{:max_kwh=>0.0, :rectifier_efficiency_pct=>0.96, :total_itc_pct=>0.0, :min_kw=>0.0, :max_kw=>0.0, :replace_cost_us_dollars_per_kw=>460.0, :replace_cost_us_dollars_per_kwh=>230.0, :min_kwh=>0.0, :installed_cost_us_dollars_per_kw=>1000.0, :total_rebate_us_dollars_per_kw=>0, :installed_cost_us_dollars_per_kwh=>500.0, :inverter_efficiency_pct=>0.96, :macrs_itc_reduction=>0.5, :canGridCharge=>true, :macrs_bonus_pct=>0.0, :battery_replacement_year=>10, :macrs_option_years=>7, :internal_efficiency_pct=>0.975, :soc_min_pct=>0.2, :soc_init_pct=>0.5, :inverter_replacement_year=>10}, :ElectricTariff=>{:add_blended_rates_to_urdb_rate=>false, :wholesale_rate_us_dollars_per_kwh=>0.0, :net_metering_limit_kw=>0.0, :interconnection_limit_kw=>100000000.0, :blended_monthly_demand_charges_us_dollars_per_kw=>[], :wholesale_rate_above_site_load_us_dollars_per_kwh=>0.0, :urdb_label=>\"539fb919ec4f024bc1dc1e5f\"}, :Financial=>{:escalation_pct=>0.026, :offtaker_discount_pct=>0.081, :value_of_lost_load_us_dollars_per_kwh=>100.0, :analysis_years=>20, :microgrid_upgrade_cost_pct=>0.3, :offtaker_tax_pct=>0.26, :om_cost_escalation_pct=>0.025}}}}, {:Scenario=>{:timeout_seconds=>295, :time_steps_per_hour=>1, :Site=>{:Wind=>{:max_kw=>0}, :PV=>{:pbi_years=>1.0, :macrs_bonus_pct=>0.0, :max_kw=>1000000000.0, :pbi_max_us_dollars=>1000000000.0, :radius=>0.0, :state_ibi_pct=>0.0, :utility_rebate_max_us_dollars=>10000000000.0, :installed_cost_us_dollars_per_kw=>2000.0, :utility_ibi_max_us_dollars=>10000000000.0, :tilt=>10.0, :federal_rebate_us_dollars_per_kw=>0.0, :gcr=>0.4, :pbi_system_max_kw=>1000000000.0, :utility_ibi_pct=>0.0, :state_ibi_max_us_dollars=>10000000000.0, :state_rebate_us_dollars_per_kw=>0.0, :macrs_option_years=>5, :state_rebate_max_us_dollars=>10000000000.0, :dc_ac_ratio=>1.1, :federal_itc_pct=>0.3, :pbi_us_dollars_per_kwh=>0.0, :module_type=>0, :array_type=>1, :existing_kw=>0.0, :om_cost_us_dollars_per_kw=>16.0, :utility_rebate_us_dollars_per_kw=>0.0, :min_kw=>0.0, :losses=>0.14, :macrs_itc_reduction=>0.5, :degradation_pct=>0.005, :inv_eff=>0.96, :azimuth=>180.0}, :Generator=>{:pbi_years=>0.0, :macrs_bonus_pct=>0.0, :om_cost_us_dollars_per_kwh=>20.0, :max_kw=>1000000000.0, :pbi_max_us_dollars=>0.0, :state_ibi_pct=>0.0, :fuel_intercept_gal_per_hr=>0.0125, :generator_only_runs_during_grid_outage=>true, :state_rebate_us_dollars_per_kw=>0.0, :installed_cost_us_dollars_per_kw=>2500.0, :utility_ibi_max_us_dollars=>0.0, :fuel_avail_gal=>0.0, :min_turn_down_pct=>0.3, :pbi_system_max_kw=>0.0, :utility_ibi_pct=>0.0, :state_ibi_max_us_dollars=>0.0, :diesel_fuel_cost_us_dollars_per_gallon=>20.0, :fuel_slope_gal_per_kwh=>0.068, :utility_rebate_max_us_dollars=>0.0, :macrs_option_years=>0, :state_rebate_max_us_dollars=>0.0, :federal_itc_pct=>0.0, :existing_kw=>0.0, :pbi_us_dollars_per_kwh=>0.0, :om_cost_us_dollars_per_kw=>50.0, :utility_rebate_us_dollars_per_kw=>0.0, :min_kw=>0.0, :macrs_itc_reduction=>0.0, :federal_rebate_us_dollars_per_kw=>0.0, :generator_sells_energy_back_to_grid=>false}, :LoadProfile=>{:critical_loads_kw_is_net=>false, :critical_load_pct=>0, :loads_kw_is_net=>true}, :roof_squarefeet=>nil, :Storage=>{:max_kwh=>0.0, :rectifier_efficiency_pct=>0.96, :total_itc_pct=>0.0, :min_kw=>0.0, :max_kw=>0.0, :replace_cost_us_dollars_per_kw=>460.0, :replace_cost_us_dollars_per_kwh=>230.0, :min_kwh=>0.0, :installed_cost_us_dollars_per_kw=>1000.0, :total_rebate_us_dollars_per_kw=>0, :installed_cost_us_dollars_per_kwh=>500.0, :inverter_efficiency_pct=>0.96, :macrs_itc_reduction=>0.5, :canGridCharge=>true, :macrs_bonus_pct=>0.0, :battery_replacement_year=>10, :macrs_option_years=>7, :internal_efficiency_pct=>0.975, :soc_min_pct=>0.2, :soc_init_pct=>0.5, :inverter_replacement_year=>10}, :ElectricTariff=>{:add_blended_rates_to_urdb_rate=>false, :wholesale_rate_us_dollars_per_kwh=>0.0, :net_metering_limit_kw=>0.0, :interconnection_limit_kw=>100000000.0, :blended_monthly_demand_charges_us_dollars_per_kw=>[], :wholesale_rate_above_site_load_us_dollars_per_kwh=>0.0, :urdb_label=>\"539fb919ec4f024bc1dc1e5f\"}, :Financial=>{:escalation_pct=>0.026, :offtaker_discount_pct=>0.081, :value_of_lost_load_us_dollars_per_kwh=>100.0, :analysis_years=>20, :microgrid_upgrade_cost_pct=>0.3, :offtaker_tax_pct=>0.26, :om_cost_escalation_pct=>0.025}}}}]]"
      ]
     },
     "execution_count": 28,
     "metadata": {},
     "output_type": "execute_result"
    }
   ],
   "source": [
    "p \"Scenario Level Assumptions\", reopt_post_processor.scenario_reopt_default_assumptions_hash\n",
    "p\n",
    "p \"Feature Level Assumptions\", reopt_post_processor.feature_reports_reopt_default_assumption_hashes"
   ]
  },
  {
   "cell_type": "raw",
   "metadata": {},
   "source": [
    "Let's also look at where REopt reponses and updated timeseries CSV files will be saved. These were created in default locations because we created the REopt post processor with a scenario report as the first parameter."
   ]
  },
  {
   "cell_type": "code",
   "execution_count": 29,
   "metadata": {},
   "outputs": [
    {
     "name": "stdout",
     "output_type": "stream",
     "text": [
      "\"Scenario REopt Response\"\n",
      "\"./run/baseline_scenario/scenario_report_Baseline Scenario_reopt_run.json\"\n",
      "\"New Scenario Timeseries CSV\"\n",
      "\"./run/baseline_scenario/scenario_report_Baseline Scenario_timeseries.csv\"\n",
      "\"Feature REopt Responses\"\n",
      "[\"/Users/tkwasnik/github/urbanopt-example-geojson-reopt-project/jupyter_example/run/baseline_scenario/1/feature_report_1_reopt_run.json\", \"/Users/tkwasnik/github/urbanopt-example-geojson-reopt-project/jupyter_example/run/baseline_scenario/2/feature_report_2_reopt_run.json\", \"/Users/tkwasnik/github/urbanopt-example-geojson-reopt-project/jupyter_example/run/baseline_scenario/3/feature_report_3_reopt_run.json\", \"/Users/tkwasnik/github/urbanopt-example-geojson-reopt-project/jupyter_example/run/baseline_scenario/4/feature_report_4_reopt_run.json\", \"/Users/tkwasnik/github/urbanopt-example-geojson-reopt-project/jupyter_example/run/baseline_scenario/5/feature_report_5_reopt_run.json\", \"/Users/tkwasnik/github/urbanopt-example-geojson-reopt-project/jupyter_example/run/baseline_scenario/6/feature_report_6_reopt_run.json\", \"/Users/tkwasnik/github/urbanopt-example-geojson-reopt-project/jupyter_example/run/baseline_scenario/7/feature_report_7_reopt_run.json\", \"/Users/tkwasnik/github/urbanopt-example-geojson-reopt-project/jupyter_example/run/baseline_scenario/8/feature_report_8_reopt_run.json\", \"/Users/tkwasnik/github/urbanopt-example-geojson-reopt-project/jupyter_example/run/baseline_scenario/9/feature_report_9_reopt_run.json\", \"/Users/tkwasnik/github/urbanopt-example-geojson-reopt-project/jupyter_example/run/baseline_scenario/10/feature_report_10_reopt_run.json\", \"/Users/tkwasnik/github/urbanopt-example-geojson-reopt-project/jupyter_example/run/baseline_scenario/11/feature_report_11_reopt_run.json\", \"/Users/tkwasnik/github/urbanopt-example-geojson-reopt-project/jupyter_example/run/baseline_scenario/12/feature_report_12_reopt_run.json\", \"/Users/tkwasnik/github/urbanopt-example-geojson-reopt-project/jupyter_example/run/baseline_scenario/13/feature_report_13_reopt_run.json\"]\n",
      "\"New Feature Timeseries CSVs\"\n",
      "[\"/Users/tkwasnik/github/urbanopt-example-geojson-reopt-project/jupyter_example/run/baseline_scenario/1/feature_report_1_timeseries.csv\", \"/Users/tkwasnik/github/urbanopt-example-geojson-reopt-project/jupyter_example/run/baseline_scenario/2/feature_report_2_timeseries.csv\", \"/Users/tkwasnik/github/urbanopt-example-geojson-reopt-project/jupyter_example/run/baseline_scenario/3/feature_report_3_timeseries.csv\", \"/Users/tkwasnik/github/urbanopt-example-geojson-reopt-project/jupyter_example/run/baseline_scenario/4/feature_report_4_timeseries.csv\", \"/Users/tkwasnik/github/urbanopt-example-geojson-reopt-project/jupyter_example/run/baseline_scenario/5/feature_report_5_timeseries.csv\", \"/Users/tkwasnik/github/urbanopt-example-geojson-reopt-project/jupyter_example/run/baseline_scenario/6/feature_report_6_timeseries.csv\", \"/Users/tkwasnik/github/urbanopt-example-geojson-reopt-project/jupyter_example/run/baseline_scenario/7/feature_report_7_timeseries.csv\", \"/Users/tkwasnik/github/urbanopt-example-geojson-reopt-project/jupyter_example/run/baseline_scenario/8/feature_report_8_timeseries.csv\", \"/Users/tkwasnik/github/urbanopt-example-geojson-reopt-project/jupyter_example/run/baseline_scenario/9/feature_report_9_timeseries.csv\", \"/Users/tkwasnik/github/urbanopt-example-geojson-reopt-project/jupyter_example/run/baseline_scenario/10/feature_report_10_timeseries.csv\", \"/Users/tkwasnik/github/urbanopt-example-geojson-reopt-project/jupyter_example/run/baseline_scenario/11/feature_report_11_timeseries.csv\", \"/Users/tkwasnik/github/urbanopt-example-geojson-reopt-project/jupyter_example/run/baseline_scenario/12/feature_report_12_timeseries.csv\", \"/Users/tkwasnik/github/urbanopt-example-geojson-reopt-project/jupyter_example/run/baseline_scenario/13/feature_report_13_timeseries.csv\"]\n"
     ]
    },
    {
     "data": {
      "text/plain": [
       "[\"New Feature Timeseries CSVs\", [\"/Users/tkwasnik/github/urbanopt-example-geojson-reopt-project/jupyter_example/run/baseline_scenario/1/feature_report_1_timeseries.csv\", \"/Users/tkwasnik/github/urbanopt-example-geojson-reopt-project/jupyter_example/run/baseline_scenario/2/feature_report_2_timeseries.csv\", \"/Users/tkwasnik/github/urbanopt-example-geojson-reopt-project/jupyter_example/run/baseline_scenario/3/feature_report_3_timeseries.csv\", \"/Users/tkwasnik/github/urbanopt-example-geojson-reopt-project/jupyter_example/run/baseline_scenario/4/feature_report_4_timeseries.csv\", \"/Users/tkwasnik/github/urbanopt-example-geojson-reopt-project/jupyter_example/run/baseline_scenario/5/feature_report_5_timeseries.csv\", \"/Users/tkwasnik/github/urbanopt-example-geojson-reopt-project/jupyter_example/run/baseline_scenario/6/feature_report_6_timeseries.csv\", \"/Users/tkwasnik/github/urbanopt-example-geojson-reopt-project/jupyter_example/run/baseline_scenario/7/feature_report_7_timeseries.csv\", \"/Users/tkwasnik/github/urbanopt-example-geojson-reopt-project/jupyter_example/run/baseline_scenario/8/feature_report_8_timeseries.csv\", \"/Users/tkwasnik/github/urbanopt-example-geojson-reopt-project/jupyter_example/run/baseline_scenario/9/feature_report_9_timeseries.csv\", \"/Users/tkwasnik/github/urbanopt-example-geojson-reopt-project/jupyter_example/run/baseline_scenario/10/feature_report_10_timeseries.csv\", \"/Users/tkwasnik/github/urbanopt-example-geojson-reopt-project/jupyter_example/run/baseline_scenario/11/feature_report_11_timeseries.csv\", \"/Users/tkwasnik/github/urbanopt-example-geojson-reopt-project/jupyter_example/run/baseline_scenario/12/feature_report_12_timeseries.csv\", \"/Users/tkwasnik/github/urbanopt-example-geojson-reopt-project/jupyter_example/run/baseline_scenario/13/feature_report_13_timeseries.csv\"]]"
      ]
     },
     "execution_count": 29,
     "metadata": {},
     "output_type": "execute_result"
    }
   ],
   "source": [
    "p 'Scenario REopt Response',reopt_post_processor.scenario_reopt_default_output_file\n",
    "p 'New Scenario Timeseries CSV', reopt_post_processor.scenario_timeseries_default_output_file\n",
    "p 'Feature REopt Responses',reopt_post_processor.feature_reports_reopt_default_output_files\n",
    "p 'New Feature Timeseries CSVs', reopt_post_processor.feature_reports_timeseries_default_output_files"
   ]
  },
  {
   "cell_type": "raw",
   "metadata": {},
   "source": [
    "Let's now run REopt once at the aggregate scenario level. Then save results to a new hash.\n",
    "\n",
    "Note, it may take several minutes to get the results from the API."
   ]
  },
  {
   "cell_type": "code",
   "execution_count": null,
   "metadata": {},
   "outputs": [
    {
     "name": "stdout",
     "output_type": "stream",
     "text": [
      "\"Submitting scenario_report_BaselineScenario_BaselineScenario to REopt Lite API\"\n"
     ]
    },
    {
     "ename": "RuntimeError",
     "evalue": "Error in REopt optimization post - see ./run/baseline_scenario/scenario_report_Baseline Scenario_reopt_run.json",
     "output_type": "error",
     "traceback": [
      "\u001b[31mRuntimeError\u001b[0m: Error in REopt optimization post - see ./run/baseline_scenario/scenario_report_Baseline Scenario_reopt_run.json",
      "/Users/tkwasnik/.rbenv/versions/2.2.4/lib/ruby/gems/2.2.0/bundler/gems/urbanopt-reopt-gem-9d3a2c58ed2e/lib/urbanopt/reopt/reopt_lite_api.rb:187:in `reopt_request'",
      "/Users/tkwasnik/.rbenv/versions/2.2.4/lib/ruby/gems/2.2.0/bundler/gems/urbanopt-reopt-gem-9d3a2c58ed2e/lib/urbanopt/reopt/reopt_post_processor.rb:155:in `run_scenario_report'",
      "<main>:1:in `<main>'",
      "/Users/tkwasnik/.rbenv/versions/2.2.4/lib/ruby/gems/2.2.0/gems/iruby-0.4.0/lib/iruby/backend.rb:44:in `eval'",
      "/Users/tkwasnik/.rbenv/versions/2.2.4/lib/ruby/gems/2.2.0/gems/iruby-0.4.0/lib/iruby/backend.rb:44:in `eval'",
      "/Users/tkwasnik/.rbenv/versions/2.2.4/lib/ruby/gems/2.2.0/gems/iruby-0.4.0/lib/iruby/backend.rb:12:in `eval'",
      "/Users/tkwasnik/.rbenv/versions/2.2.4/lib/ruby/gems/2.2.0/gems/iruby-0.4.0/lib/iruby/kernel.rb:90:in `execute_request'",
      "/Users/tkwasnik/.rbenv/versions/2.2.4/lib/ruby/gems/2.2.0/gems/iruby-0.4.0/lib/iruby/kernel.rb:49:in `dispatch'",
      "/Users/tkwasnik/.rbenv/versions/2.2.4/lib/ruby/gems/2.2.0/gems/iruby-0.4.0/lib/iruby/kernel.rb:38:in `run'",
      "/Users/tkwasnik/.rbenv/versions/2.2.4/lib/ruby/gems/2.2.0/gems/iruby-0.4.0/lib/iruby/command.rb:110:in `run_kernel'",
      "/Users/tkwasnik/.rbenv/versions/2.2.4/lib/ruby/gems/2.2.0/gems/iruby-0.4.0/lib/iruby/command.rb:40:in `run'",
      "/Users/tkwasnik/.rbenv/versions/2.2.4/lib/ruby/gems/2.2.0/gems/iruby-0.4.0/bin/iruby:5:in `<top (required)>'",
      "/Users/tkwasnik/.rbenv/versions/2.2.4/bin/iruby:23:in `load'",
      "/Users/tkwasnik/.rbenv/versions/2.2.4/bin/iruby:23:in `<main>'"
     ]
    }
   ],
   "source": [
    "scenario_report_scenario = reopt_post_processor.run_scenario_report(scenario_report)\n",
    "scenario_report_scenario.save('baseline_scenario')"
   ]
  },
  {
   "cell_type": "raw",
   "metadata": {},
   "source": [
    "We see that we get a message that the API has been called. You will also see messages if defaults assumptions are used. To see what that will look like run the code below, which overwrites the REopt assumptions with nil. We also save the REopt reponse and updated CSV to alternate locations so that we do not overwrite previous results.\n",
    "\n",
    "In this case utility costs are assumed to be $0.13 /kWh without demand charges."
   ]
  },
  {
   "cell_type": "code",
   "execution_count": 16,
   "metadata": {},
   "outputs": [
    {
     "name": "stdout",
     "output_type": "stream",
     "text": [
      "\"Using default REopt Lite assumptions\"\n",
      "\"Submitting scenario_report_BaselineScenario_BaselineScenario to REopt Lite API\"\n"
     ]
    },
    {
     "data": {
      "text/plain": [
       "true"
      ]
     },
     "execution_count": 16,
     "metadata": {},
     "output_type": "execute_result"
    }
   ],
   "source": [
    "reopt_post_processor.scenario_reopt_default_assumptions_hash = nil\n",
    "scenario_report_scenario_default = reopt_post_processor.run_scenario_report(scenario_report,nil,\n",
    "  \"./run/baseline_scenario/scenario_report_Baseline Scenario_reopt_run_DEFAULT.json\",\n",
    "  \"./run/baseline_scenario/scenario_report_Baseline Scenario_timeseries_DEFAULT.csv\")\n",
    "scenario_report_scenario_default.save('baseline_scenario_DEFAULT')"
   ]
  },
  {
   "cell_type": "raw",
   "metadata": {},
   "source": [
    "Let's next take a look at how to run the scenario from the feature level. This way we will call  REopt Lite for each feature before, aggregating results at the scenario level.\n",
    "\n",
    "Note this will take much longer than the previous step because we will call REopt 13 times."
   ]
  },
  {
   "cell_type": "code",
   "execution_count": 17,
   "metadata": {},
   "outputs": [
    {
     "name": "stdout",
     "output_type": "stream",
     "text": [
      "\"Submitting feature_report_Mixed_use1_1 to REopt Lite API\"\n",
      "\"Submitting feature_report_Restaurant1_2 to REopt Lite API\"\n",
      "\"Submitting feature_report_Residential1_3 to REopt Lite API\"\n",
      "\"Submitting feature_report_Residential2_4 to REopt Lite API\"\n",
      "\"Submitting feature_report_Residential4_5 to REopt Lite API\"\n",
      "\"Submitting feature_report_Residential5_6 to REopt Lite API\"\n",
      "\"Submitting feature_report_Office1_7 to REopt Lite API\"\n",
      "\"Submitting feature_report_Hospital1_8 to REopt Lite API\"\n",
      "\"Submitting feature_report_Hospital2_9 to REopt Lite API\"\n",
      "\"Submitting feature_report_Mixeduse2_10 to REopt Lite API\"\n",
      "\"Submitting feature_report_Residential3_11 to REopt Lite API\"\n",
      "\"Submitting feature_report_Mall1_12 to REopt Lite API\"\n",
      "\"Submitting feature_report_Hotel1_13 to REopt Lite API\"\n"
     ]
    },
    {
     "data": {
      "text/plain": [
       "true"
      ]
     },
     "execution_count": 17,
     "metadata": {},
     "output_type": "execute_result"
    }
   ],
   "source": [
    "scenario_report_features = reopt_post_processor.run_scenario_report_features(scenario_report)\n",
    "scenario_report_features.save('baseline_features')"
   ]
  },
  {
   "cell_type": "markdown",
   "metadata": {},
   "source": [
    "## Results"
   ]
  },
  {
   "cell_type": "raw",
   "metadata": {},
   "source": [
    "Let's now take a look to see how sizing and financials compare from the scenario level and feature level analyses."
   ]
  },
  {
   "cell_type": "code",
   "execution_count": 20,
   "metadata": {},
   "outputs": [
    {
     "data": {
      "text/plain": [
       "true"
      ]
     },
     "execution_count": 20,
     "metadata": {},
     "output_type": "execute_result"
    }
   ],
   "source": [
    "s_pv = scenario_report_scenario.distributed_generation.solar_pv.size_kw\n",
    "s_storage_kw = scenario_report_scenario.distributed_generation.storage.size_kw\n",
    "s_storage_kwh = scenario_report_scenario.distributed_generation.storage.size_kwh\n",
    "s_lcc = scenario_report_scenario.distributed_generation.lcc_us_dollars\n",
    "s_savings = scenario_report_scenario.distributed_generation.npv_us_dollars/scenario_report_scenario.distributed_generation.lcc_us_dollars\n",
    "\n",
    "f_pv = scenario_report_features.distributed_generation.solar_pv.size_kw\n",
    "f_storage_kw = scenario_report_features.distributed_generation.storage.size_kw\n",
    "f_storage_kwh = scenario_report_features.distributed_generation.storage.size_kwh\n",
    "f_lcc = scenario_report_features.distributed_generation.lcc_us_dollars\n",
    "f_pct_savings = scenario_report_features.distributed_generation.npv_us_dollars/scenario_report_features.distributed_generation.lcc_us_dollars\n",
    "\n",
    "true"
   ]
  },
  {
   "cell_type": "code",
   "execution_count": 21,
   "metadata": {},
   "outputs": [
    {
     "data": {
      "text/html": [
       "<div id='vis-0e8c40e0-fd0f-4b65-96f5-ed7fe74dd5be'></div>\n",
       "<script>\n",
       "(function(){\n",
       "    var render = function(){\n",
       "        var model = {\"panes\":[{\"diagrams\":[{\"type\":\"bar\",\"options\":{\"x\":\"level\",\"y\":\"solar_pv_kw\"},\"data\":\"cb8bbc93-3603-4174-a493-17fd017352f1\"}],\"options\":{\"x_label\":\"\",\"y_label\":\"kW\",\"width\":700,\"xrange\":[\"scenario\",\"feature\"],\"yrange\":[0,1993.1763999999998]}}],\"data\":{\"cb8bbc93-3603-4174-a493-17fd017352f1\":[{\"level\":\"scenario\",\"solar_pv_kw\":1128.3983},{\"level\":\"feature\",\"solar_pv_kw\":1993.1763999999998}]},\"extension\":[]}\n",
       "        var id_name = '#vis-0e8c40e0-fd0f-4b65-96f5-ed7fe74dd5be';\n",
       "        Nyaplot.core.parse(model, id_name);\n",
       "\n",
       "        require(['downloadable'], function(downloadable){\n",
       "          var svg = d3.select(id_name).select(\"svg\");\n",
       "\t  if(!svg.empty())\n",
       "\t    svg.call(downloadable().filename('fig'));\n",
       "\t});\n",
       "    };\n",
       "    if(window['Nyaplot']==undefined){\n",
       "        window.addEventListener('load_nyaplot', render, false);\n",
       "\treturn;\n",
       "    } else {\n",
       "       render();\n",
       "    }\n",
       "})();\n",
       "</script>\n"
      ],
      "text/plain": [
       "#<Nyaplot::Plot:0x007fb31c46a560 @properties={:diagrams=>[#<Nyaplot::Diagram:0x007fb31da7b368 @properties={:type=>:bar, :options=>{:x=>:level, :y=>:solar_pv_kw}, :data=>\"cb8bbc93-3603-4174-a493-17fd017352f1\"}, @xrange=[\"scenario\", \"feature\"], @yrange=[0, 1993.1763999999998]>], :options=>{:x_label=>\"\", :y_label=>\"kW\", :width=>700, :xrange=>[\"scenario\", \"feature\"], :yrange=>[0, 1993.1763999999998]}}>"
      ]
     },
     "execution_count": 21,
     "metadata": {},
     "output_type": "execute_result"
    }
   ],
   "source": [
    "#PV Capacity\n",
    "df = Daru::DataFrame.new({level:['scenario','feature'], solar_pv_kw:[s_pv,f_pv]})\n",
    "p1 = df.plot type: :bar, x: :level, y: :solar_pv_kw do |plot, diagram|\n",
    "  plot.x_label \"\"\n",
    "  plot.y_label \"kW\"\n",
    "end"
   ]
  },
  {
   "cell_type": "code",
   "execution_count": 22,
   "metadata": {},
   "outputs": [
    {
     "data": {
      "text/html": [
       "<div id='vis-9f03bcd5-7e5b-44c6-8505-91a2bed899a2'></div>\n",
       "<script>\n",
       "(function(){\n",
       "    var render = function(){\n",
       "        var model = {\"panes\":[{\"diagrams\":[{\"type\":\"bar\",\"options\":{\"x\":\"level\",\"y\":\"solar_pv_kw\"},\"data\":\"e94bbfd6-b71a-4299-bc8d-b2e900e069f8\"}],\"options\":{\"x_label\":\"\",\"y_label\":\"kW\",\"width\":700,\"xrange\":[\"scenario\",\"feature\"],\"yrange\":[0,0.0]}}],\"data\":{\"e94bbfd6-b71a-4299-bc8d-b2e900e069f8\":[{\"level\":\"scenario\",\"solar_pv_kw\":0.0},{\"level\":\"feature\",\"solar_pv_kw\":0.0}]},\"extension\":[]}\n",
       "        var id_name = '#vis-9f03bcd5-7e5b-44c6-8505-91a2bed899a2';\n",
       "        Nyaplot.core.parse(model, id_name);\n",
       "\n",
       "        require(['downloadable'], function(downloadable){\n",
       "          var svg = d3.select(id_name).select(\"svg\");\n",
       "\t  if(!svg.empty())\n",
       "\t    svg.call(downloadable().filename('fig'));\n",
       "\t});\n",
       "    };\n",
       "    if(window['Nyaplot']==undefined){\n",
       "        window.addEventListener('load_nyaplot', render, false);\n",
       "\treturn;\n",
       "    } else {\n",
       "       render();\n",
       "    }\n",
       "})();\n",
       "</script>\n"
      ],
      "text/plain": [
       "#<Nyaplot::Plot:0x007fb31e1bc0f0 @properties={:diagrams=>[#<Nyaplot::Diagram:0x007fb31c45b498 @properties={:type=>:bar, :options=>{:x=>:level, :y=>:solar_pv_kw}, :data=>\"e94bbfd6-b71a-4299-bc8d-b2e900e069f8\"}, @xrange=[\"scenario\", \"feature\"], @yrange=[0, 0.0]>], :options=>{:x_label=>\"\", :y_label=>\"kW\", :width=>700, :xrange=>[\"scenario\", \"feature\"], :yrange=>[0, 0.0]}}>"
      ]
     },
     "execution_count": 22,
     "metadata": {},
     "output_type": "execute_result"
    }
   ],
   "source": [
    "#Storage kW\n",
    "df = Daru::DataFrame.new({level:['scenario','feature'], solar_pv_kw:[s_storage_kw,f_storage_kw]})\n",
    "p2 = df.plot type: :bar, x: :level, y: :solar_pv_kw do |plot, diagram|\n",
    "  plot.x_label \"\"\n",
    "  plot.y_label \"kW\"\n",
    "end"
   ]
  },
  {
   "cell_type": "code",
   "execution_count": 23,
   "metadata": {},
   "outputs": [
    {
     "data": {
      "text/html": [
       "<div id='vis-2349cbd0-e4db-4c9b-93d2-162371f6cc43'></div>\n",
       "<script>\n",
       "(function(){\n",
       "    var render = function(){\n",
       "        var model = {\"panes\":[{\"diagrams\":[{\"type\":\"bar\",\"options\":{\"x\":\"level\",\"y\":\"solar_pv_kw\"},\"data\":\"f730f38d-f2ae-495d-ae16-3f44f4d822ec\"}],\"options\":{\"x_label\":\"\",\"y_label\":\"kWh\",\"width\":700,\"xrange\":[\"scenario\",\"feature\"],\"yrange\":[0,0.0]}}],\"data\":{\"f730f38d-f2ae-495d-ae16-3f44f4d822ec\":[{\"level\":\"scenario\",\"solar_pv_kw\":0.0},{\"level\":\"feature\",\"solar_pv_kw\":0.0}]},\"extension\":[]}\n",
       "        var id_name = '#vis-2349cbd0-e4db-4c9b-93d2-162371f6cc43';\n",
       "        Nyaplot.core.parse(model, id_name);\n",
       "\n",
       "        require(['downloadable'], function(downloadable){\n",
       "          var svg = d3.select(id_name).select(\"svg\");\n",
       "\t  if(!svg.empty())\n",
       "\t    svg.call(downloadable().filename('fig'));\n",
       "\t});\n",
       "    };\n",
       "    if(window['Nyaplot']==undefined){\n",
       "        window.addEventListener('load_nyaplot', render, false);\n",
       "\treturn;\n",
       "    } else {\n",
       "       render();\n",
       "    }\n",
       "})();\n",
       "</script>\n"
      ],
      "text/plain": [
       "#<Nyaplot::Plot:0x007fb31c453338 @properties={:diagrams=>[#<Nyaplot::Diagram:0x007fb31e1b5f98 @properties={:type=>:bar, :options=>{:x=>:level, :y=>:solar_pv_kw}, :data=>\"f730f38d-f2ae-495d-ae16-3f44f4d822ec\"}, @xrange=[\"scenario\", \"feature\"], @yrange=[0, 0.0]>], :options=>{:x_label=>\"\", :y_label=>\"kWh\", :width=>700, :xrange=>[\"scenario\", \"feature\"], :yrange=>[0, 0.0]}}>"
      ]
     },
     "execution_count": 23,
     "metadata": {},
     "output_type": "execute_result"
    }
   ],
   "source": [
    "#Storage kWh\n",
    "df = Daru::DataFrame.new({level:['scenario','feature'], solar_pv_kw:[s_storage_kwh,f_storage_kwh]})\n",
    "p3 = df.plot type: :bar, x: :level, y: :solar_pv_kw do |plot, diagram|\n",
    "  plot.x_label \"\"\n",
    "  plot.y_label \"kWh\"\n",
    "end"
   ]
  },
  {
   "cell_type": "code",
   "execution_count": 24,
   "metadata": {},
   "outputs": [
    {
     "data": {
      "text/html": [
       "<div id='vis-d8d675f8-eaf2-4f80-9968-46d1a69138a4'></div>\n",
       "<script>\n",
       "(function(){\n",
       "    var render = function(){\n",
       "        var model = {\"panes\":[{\"diagrams\":[{\"type\":\"bar\",\"options\":{\"x\":\"level\",\"y\":\"solar_pv_kw\"},\"data\":\"98667013-82ab-459a-ac54-c92f013d7736\"}],\"options\":{\"x_label\":\"\",\"y_label\":\"$\",\"width\":700,\"xrange\":[\"scenario\",\"feature\"],\"yrange\":[0,126359831.0]}}],\"data\":{\"98667013-82ab-459a-ac54-c92f013d7736\":[{\"level\":\"scenario\",\"solar_pv_kw\":6919163.0},{\"level\":\"feature\",\"solar_pv_kw\":126359831.0}]},\"extension\":[]}\n",
       "        var id_name = '#vis-d8d675f8-eaf2-4f80-9968-46d1a69138a4';\n",
       "        Nyaplot.core.parse(model, id_name);\n",
       "\n",
       "        require(['downloadable'], function(downloadable){\n",
       "          var svg = d3.select(id_name).select(\"svg\");\n",
       "\t  if(!svg.empty())\n",
       "\t    svg.call(downloadable().filename('fig'));\n",
       "\t});\n",
       "    };\n",
       "    if(window['Nyaplot']==undefined){\n",
       "        window.addEventListener('load_nyaplot', render, false);\n",
       "\treturn;\n",
       "    } else {\n",
       "       render();\n",
       "    }\n",
       "})();\n",
       "</script>\n"
      ],
      "text/plain": [
       "#<Nyaplot::Plot:0x007fb31e1aee00 @properties={:diagrams=>[#<Nyaplot::Diagram:0x007fb31c442808 @properties={:type=>:bar, :options=>{:x=>:level, :y=>:solar_pv_kw}, :data=>\"98667013-82ab-459a-ac54-c92f013d7736\"}, @xrange=[\"scenario\", \"feature\"], @yrange=[0, 126359831.0]>], :options=>{:x_label=>\"\", :y_label=>\"$\", :width=>700, :xrange=>[\"scenario\", \"feature\"], :yrange=>[0, 126359831.0]}}>"
      ]
     },
     "execution_count": 24,
     "metadata": {},
     "output_type": "execute_result"
    }
   ],
   "source": [
    "#Lifecycle Costs\n",
    "df = Daru::DataFrame.new({level:['scenario','feature'], solar_pv_kw:[s_lcc,f_lcc]})\n",
    "p4 = df.plot type: :bar, x: :level, y: :solar_pv_kw do |plot, diagram|\n",
    "  plot.x_label \"\"\n",
    "  plot.y_label \"$\"\n",
    "end"
   ]
  },
  {
   "cell_type": "code",
   "execution_count": 25,
   "metadata": {},
   "outputs": [
    {
     "data": {
      "text/html": [
       "<div id='vis-4097b536-b8c3-4db8-9f5d-490c0f03717c'></div>\n",
       "<script>\n",
       "(function(){\n",
       "    var render = function(){\n",
       "        var model = {\"panes\":[{\"diagrams\":[{\"type\":\"bar\",\"options\":{\"x\":\"level\",\"y\":\"solar_pv_kw\"},\"data\":\"efb2f7c6-3b6f-4b34-95f1-4391e889c47e\"}],\"options\":{\"x_label\":\"\",\"y_label\":\"%\",\"width\":700,\"xrange\":[\"scenario\",\"feature\"],\"yrange\":[0,0.04229731255066545]}}],\"data\":{\"efb2f7c6-3b6f-4b34-95f1-4391e889c47e\":[{\"level\":\"scenario\",\"solar_pv_kw\":0.04229731255066545},{\"level\":\"feature\",\"solar_pv_kw\":0.001812015718824442}]},\"extension\":[]}\n",
       "        var id_name = '#vis-4097b536-b8c3-4db8-9f5d-490c0f03717c';\n",
       "        Nyaplot.core.parse(model, id_name);\n",
       "\n",
       "        require(['downloadable'], function(downloadable){\n",
       "          var svg = d3.select(id_name).select(\"svg\");\n",
       "\t  if(!svg.empty())\n",
       "\t    svg.call(downloadable().filename('fig'));\n",
       "\t});\n",
       "    };\n",
       "    if(window['Nyaplot']==undefined){\n",
       "        window.addEventListener('load_nyaplot', render, false);\n",
       "\treturn;\n",
       "    } else {\n",
       "       render();\n",
       "    }\n",
       "})();\n",
       "</script>\n"
      ],
      "text/plain": [
       "#<Nyaplot::Plot:0x007fb31eb4a4f0 @properties={:diagrams=>[#<Nyaplot::Diagram:0x007fb31f95f2e8 @properties={:type=>:bar, :options=>{:x=>:level, :y=>:solar_pv_kw}, :data=>\"efb2f7c6-3b6f-4b34-95f1-4391e889c47e\"}, @xrange=[\"scenario\", \"feature\"], @yrange=[0, 0.04229731255066545]>], :options=>{:x_label=>\"\", :y_label=>\"%\", :width=>700, :xrange=>[\"scenario\", \"feature\"], :yrange=>[0, 0.04229731255066545]}}>"
      ]
     },
     "execution_count": 25,
     "metadata": {},
     "output_type": "execute_result"
    }
   ],
   "source": [
    "#Percent Savings\n",
    "df = Daru::DataFrame.new({level:['scenario','feature'], solar_pv_kw:[s_savings,f_pct_savings]})\n",
    "p5 = df.plot type: :bar, x: :level, y: :solar_pv_kw do |plot, diagram|\n",
    "  plot.x_label \"\"\n",
    "  plot.y_label \"%\"\n",
    "end"
   ]
  },
  {
   "cell_type": "raw",
   "metadata": {},
   "source": [
    "From these results that a community level system would contain a solar PV system that would be about 800 kW larger than the total solar PV of an individual ownership based approach, and deliver nearly three times the savings for about the same lifecycle costs."
   ]
  }
 ],
 "metadata": {
  "kernelspec": {
   "display_name": "Ruby 2.2.4",
   "language": "ruby",
   "name": "ruby"
  },
  "language_info": {
   "file_extension": ".rb",
   "mimetype": "application/x-ruby",
   "name": "ruby",
   "version": "2.2.4"
  }
 },
 "nbformat": 4,
 "nbformat_minor": 2
}
